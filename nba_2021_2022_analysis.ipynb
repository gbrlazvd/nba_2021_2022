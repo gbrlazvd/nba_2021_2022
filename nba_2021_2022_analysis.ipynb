{
 "cells": [
  {
   "cell_type": "markdown",
   "metadata": {},
   "source": [
    "## Data Source"
   ]
  },
  {
   "cell_type": "code",
   "execution_count": 1,
   "metadata": {},
   "outputs": [],
   "source": [
    "url = \"https://www.basketball-reference.com/leagues/NBA_2022_totals.html\""
   ]
  },
  {
   "cell_type": "markdown",
   "metadata": {},
   "source": [
    "## Loading Libraries"
   ]
  },
  {
   "cell_type": "code",
   "execution_count": 2,
   "metadata": {},
   "outputs": [],
   "source": [
    "import pandas as pd\n",
    "pd.set_option('display.float_format', lambda x: '%.2f' % x) # Settings to display floating numbers\n",
    "\n",
    "import numpy as np\n",
    "\n",
    "import matplotlib.pyplot as plt\n",
    "import seaborn as sns\n",
    "import plotly.express as px\n",
    "\n"
   ]
  },
  {
   "cell_type": "markdown",
   "metadata": {},
   "source": [
    "## Data Context"
   ]
  },
  {
   "cell_type": "markdown",
   "metadata": {},
   "source": [
    "RK - Rank   \n",
    "Player - Nome do jogador    \n",
    "Pos - Posição do jogador    \n",
    "Age - Idade do jogador  \n",
    "Tm - Time do jogador    \n",
    "G - Numero de jogos que o jogador participou    \n",
    "GS - Numero de jogos em que o jogador iniciou a partida  \n",
    "MP - Minutos jogados    \n",
    "FG - Arremessos convertidos  \n",
    "FGA - Tentativas de arremesso   \n",
    "FG% - Percentual de arremessos convertidos   \n",
    "3P - Arremessos de 3 pontos convertidos  \n",
    "3PA - Arremessos de 3 pontos  \n",
    "3PA% - Percentual de arremessos de 3 pontos convertidas     \n",
    "2P - Arremessos de 2 pontos     \n",
    "2PA - Tentativas de arremessos de 2 pontos      \n",
    "2PA% - Percentual de arremessos de 2 pontos convertidas     \n",
    "eFG% - Effective Field Goal Percentage - Essa métrica leva em consideração que arremessos de 3 pontos possuem um valor maior que 2 pontos   \n",
    "FT - Arremessos livres convertidos      \n",
    "FTA - Arremessos livres     \n",
    "FT% - Percentual de arremessos livres convertidos   \n",
    "ORB - Rebotes ofensivos \n",
    "DRB - Rebotes defensivos    \n",
    "TRB - Rebotes totais    \n",
    "AST - Assistencias  \n",
    "STL - Roubos de bola    \n",
    "BLK - Bloqueios / Tocos     \n",
    "TOV - Perdas de bola (Turn over)        \n",
    "PF - Faltas pessoais    \n",
    "PTS - Pontos    "
   ]
  },
  {
   "cell_type": "markdown",
   "metadata": {},
   "source": [
    "## Perguntas de Negócio"
   ]
  },
  {
   "cell_type": "markdown",
   "metadata": {},
   "source": [
    "1 - Quais jogadores fizeram mais pontos na temporada    \n",
    "2 - Considerando o top 5% pontuadores da liga, quais são os que possuem maior aproveitamento nos arremessos de quadra       \n",
    "3 - Quais jogadores tem maior aproveitamento nos arremessos de 3 pontos     \n",
    "4 - Quais jogadores fizeram mais pontos por posição     \n",
    "5 - QUal jogador tem mais tempo em quadra       \n",
    "6 - Quais as maiores médias de pontos por jogo          \n",
    "7 - Quais as maiores médias por jogo de atributos defensivos (ORB, TRB, STL, BLK)       \n",
    "8 - Quais as maiores médias por jogo de turn overs          \n",
    "9 - Quais jogadores cometem mais faltas     \n",
    "10 - Quais os melhores arremessadores de bolas de 3 pontos até 20 anos de idade     \n",
    "11 - Quais times tem melhor aproveitamento em arremessos de quadra      \n",
    "12 - Quais times tem o pior aproveitamento de lance livre"
   ]
  },
  {
   "cell_type": "markdown",
   "metadata": {},
   "source": [
    "## Reading Data"
   ]
  },
  {
   "cell_type": "code",
   "execution_count": 3,
   "metadata": {},
   "outputs": [
    {
     "data": {
      "text/html": [
       "<div>\n",
       "<style scoped>\n",
       "    .dataframe tbody tr th:only-of-type {\n",
       "        vertical-align: middle;\n",
       "    }\n",
       "\n",
       "    .dataframe tbody tr th {\n",
       "        vertical-align: top;\n",
       "    }\n",
       "\n",
       "    .dataframe thead th {\n",
       "        text-align: right;\n",
       "    }\n",
       "</style>\n",
       "<table border=\"1\" class=\"dataframe\">\n",
       "  <thead>\n",
       "    <tr style=\"text-align: right;\">\n",
       "      <th></th>\n",
       "      <th>Rk</th>\n",
       "      <th>Player</th>\n",
       "      <th>Pos</th>\n",
       "      <th>Age</th>\n",
       "      <th>Tm</th>\n",
       "      <th>G</th>\n",
       "      <th>GS</th>\n",
       "      <th>MP</th>\n",
       "      <th>FG</th>\n",
       "      <th>FGA</th>\n",
       "      <th>...</th>\n",
       "      <th>ORB</th>\n",
       "      <th>DRB</th>\n",
       "      <th>TRB</th>\n",
       "      <th>AST</th>\n",
       "      <th>STL</th>\n",
       "      <th>BLK</th>\n",
       "      <th>TOV</th>\n",
       "      <th>PF</th>\n",
       "      <th>PTS</th>\n",
       "      <th>Player-additional</th>\n",
       "    </tr>\n",
       "  </thead>\n",
       "  <tbody>\n",
       "    <tr>\n",
       "      <th>0</th>\n",
       "      <td>1</td>\n",
       "      <td>Precious Achiuwa</td>\n",
       "      <td>C</td>\n",
       "      <td>22</td>\n",
       "      <td>TOR</td>\n",
       "      <td>73</td>\n",
       "      <td>28</td>\n",
       "      <td>1725</td>\n",
       "      <td>265</td>\n",
       "      <td>603</td>\n",
       "      <td>...</td>\n",
       "      <td>146</td>\n",
       "      <td>327</td>\n",
       "      <td>473</td>\n",
       "      <td>82</td>\n",
       "      <td>37</td>\n",
       "      <td>41</td>\n",
       "      <td>84</td>\n",
       "      <td>151</td>\n",
       "      <td>664</td>\n",
       "      <td>achiupr01</td>\n",
       "    </tr>\n",
       "    <tr>\n",
       "      <th>1</th>\n",
       "      <td>2</td>\n",
       "      <td>Steven Adams</td>\n",
       "      <td>C</td>\n",
       "      <td>28</td>\n",
       "      <td>MEM</td>\n",
       "      <td>76</td>\n",
       "      <td>75</td>\n",
       "      <td>1999</td>\n",
       "      <td>210</td>\n",
       "      <td>384</td>\n",
       "      <td>...</td>\n",
       "      <td>349</td>\n",
       "      <td>411</td>\n",
       "      <td>760</td>\n",
       "      <td>256</td>\n",
       "      <td>65</td>\n",
       "      <td>60</td>\n",
       "      <td>115</td>\n",
       "      <td>153</td>\n",
       "      <td>528</td>\n",
       "      <td>adamsst01</td>\n",
       "    </tr>\n",
       "    <tr>\n",
       "      <th>2</th>\n",
       "      <td>3</td>\n",
       "      <td>Bam Adebayo</td>\n",
       "      <td>C</td>\n",
       "      <td>24</td>\n",
       "      <td>MIA</td>\n",
       "      <td>56</td>\n",
       "      <td>56</td>\n",
       "      <td>1825</td>\n",
       "      <td>406</td>\n",
       "      <td>729</td>\n",
       "      <td>...</td>\n",
       "      <td>137</td>\n",
       "      <td>427</td>\n",
       "      <td>564</td>\n",
       "      <td>190</td>\n",
       "      <td>80</td>\n",
       "      <td>44</td>\n",
       "      <td>148</td>\n",
       "      <td>171</td>\n",
       "      <td>1068</td>\n",
       "      <td>adebaba01</td>\n",
       "    </tr>\n",
       "    <tr>\n",
       "      <th>3</th>\n",
       "      <td>4</td>\n",
       "      <td>Santi Aldama</td>\n",
       "      <td>PF</td>\n",
       "      <td>21</td>\n",
       "      <td>MEM</td>\n",
       "      <td>32</td>\n",
       "      <td>0</td>\n",
       "      <td>360</td>\n",
       "      <td>53</td>\n",
       "      <td>132</td>\n",
       "      <td>...</td>\n",
       "      <td>33</td>\n",
       "      <td>54</td>\n",
       "      <td>87</td>\n",
       "      <td>21</td>\n",
       "      <td>6</td>\n",
       "      <td>10</td>\n",
       "      <td>16</td>\n",
       "      <td>36</td>\n",
       "      <td>132</td>\n",
       "      <td>aldamsa01</td>\n",
       "    </tr>\n",
       "    <tr>\n",
       "      <th>4</th>\n",
       "      <td>5</td>\n",
       "      <td>LaMarcus Aldridge</td>\n",
       "      <td>C</td>\n",
       "      <td>36</td>\n",
       "      <td>BRK</td>\n",
       "      <td>47</td>\n",
       "      <td>12</td>\n",
       "      <td>1050</td>\n",
       "      <td>252</td>\n",
       "      <td>458</td>\n",
       "      <td>...</td>\n",
       "      <td>73</td>\n",
       "      <td>185</td>\n",
       "      <td>258</td>\n",
       "      <td>42</td>\n",
       "      <td>14</td>\n",
       "      <td>47</td>\n",
       "      <td>44</td>\n",
       "      <td>78</td>\n",
       "      <td>607</td>\n",
       "      <td>aldrila01</td>\n",
       "    </tr>\n",
       "    <tr>\n",
       "      <th>...</th>\n",
       "      <td>...</td>\n",
       "      <td>...</td>\n",
       "      <td>...</td>\n",
       "      <td>...</td>\n",
       "      <td>...</td>\n",
       "      <td>...</td>\n",
       "      <td>...</td>\n",
       "      <td>...</td>\n",
       "      <td>...</td>\n",
       "      <td>...</td>\n",
       "      <td>...</td>\n",
       "      <td>...</td>\n",
       "      <td>...</td>\n",
       "      <td>...</td>\n",
       "      <td>...</td>\n",
       "      <td>...</td>\n",
       "      <td>...</td>\n",
       "      <td>...</td>\n",
       "      <td>...</td>\n",
       "      <td>...</td>\n",
       "      <td>...</td>\n",
       "    </tr>\n",
       "    <tr>\n",
       "      <th>807</th>\n",
       "      <td>601</td>\n",
       "      <td>Thaddeus Young</td>\n",
       "      <td>PF</td>\n",
       "      <td>33</td>\n",
       "      <td>TOR</td>\n",
       "      <td>26</td>\n",
       "      <td>0</td>\n",
       "      <td>475</td>\n",
       "      <td>67</td>\n",
       "      <td>144</td>\n",
       "      <td>...</td>\n",
       "      <td>40</td>\n",
       "      <td>75</td>\n",
       "      <td>115</td>\n",
       "      <td>45</td>\n",
       "      <td>31</td>\n",
       "      <td>11</td>\n",
       "      <td>22</td>\n",
       "      <td>43</td>\n",
       "      <td>164</td>\n",
       "      <td>youngth01</td>\n",
       "    </tr>\n",
       "    <tr>\n",
       "      <th>808</th>\n",
       "      <td>602</td>\n",
       "      <td>Trae Young</td>\n",
       "      <td>PG</td>\n",
       "      <td>23</td>\n",
       "      <td>ATL</td>\n",
       "      <td>76</td>\n",
       "      <td>76</td>\n",
       "      <td>2652</td>\n",
       "      <td>711</td>\n",
       "      <td>1544</td>\n",
       "      <td>...</td>\n",
       "      <td>50</td>\n",
       "      <td>234</td>\n",
       "      <td>284</td>\n",
       "      <td>737</td>\n",
       "      <td>72</td>\n",
       "      <td>7</td>\n",
       "      <td>303</td>\n",
       "      <td>128</td>\n",
       "      <td>2155</td>\n",
       "      <td>youngtr01</td>\n",
       "    </tr>\n",
       "    <tr>\n",
       "      <th>809</th>\n",
       "      <td>603</td>\n",
       "      <td>Omer Yurtseven</td>\n",
       "      <td>C</td>\n",
       "      <td>23</td>\n",
       "      <td>MIA</td>\n",
       "      <td>56</td>\n",
       "      <td>12</td>\n",
       "      <td>706</td>\n",
       "      <td>130</td>\n",
       "      <td>247</td>\n",
       "      <td>...</td>\n",
       "      <td>85</td>\n",
       "      <td>209</td>\n",
       "      <td>294</td>\n",
       "      <td>49</td>\n",
       "      <td>17</td>\n",
       "      <td>20</td>\n",
       "      <td>41</td>\n",
       "      <td>84</td>\n",
       "      <td>299</td>\n",
       "      <td>yurtsom01</td>\n",
       "    </tr>\n",
       "    <tr>\n",
       "      <th>810</th>\n",
       "      <td>604</td>\n",
       "      <td>Cody Zeller</td>\n",
       "      <td>C</td>\n",
       "      <td>29</td>\n",
       "      <td>POR</td>\n",
       "      <td>27</td>\n",
       "      <td>0</td>\n",
       "      <td>355</td>\n",
       "      <td>51</td>\n",
       "      <td>90</td>\n",
       "      <td>...</td>\n",
       "      <td>50</td>\n",
       "      <td>75</td>\n",
       "      <td>125</td>\n",
       "      <td>22</td>\n",
       "      <td>8</td>\n",
       "      <td>6</td>\n",
       "      <td>19</td>\n",
       "      <td>56</td>\n",
       "      <td>140</td>\n",
       "      <td>zelleco01</td>\n",
       "    </tr>\n",
       "    <tr>\n",
       "      <th>811</th>\n",
       "      <td>605</td>\n",
       "      <td>Ivica Zubac</td>\n",
       "      <td>C</td>\n",
       "      <td>24</td>\n",
       "      <td>LAC</td>\n",
       "      <td>76</td>\n",
       "      <td>76</td>\n",
       "      <td>1852</td>\n",
       "      <td>310</td>\n",
       "      <td>495</td>\n",
       "      <td>...</td>\n",
       "      <td>217</td>\n",
       "      <td>427</td>\n",
       "      <td>644</td>\n",
       "      <td>120</td>\n",
       "      <td>36</td>\n",
       "      <td>77</td>\n",
       "      <td>114</td>\n",
       "      <td>203</td>\n",
       "      <td>785</td>\n",
       "      <td>zubaciv01</td>\n",
       "    </tr>\n",
       "  </tbody>\n",
       "</table>\n",
       "<p>812 rows × 31 columns</p>\n",
       "</div>"
      ],
      "text/plain": [
       "      Rk             Player Pos  Age   Tm   G  GS    MP   FG   FGA  ...  ORB  \\\n",
       "0      1   Precious Achiuwa   C   22  TOR  73  28  1725  265   603  ...  146   \n",
       "1      2       Steven Adams   C   28  MEM  76  75  1999  210   384  ...  349   \n",
       "2      3        Bam Adebayo   C   24  MIA  56  56  1825  406   729  ...  137   \n",
       "3      4       Santi Aldama  PF   21  MEM  32   0   360   53   132  ...   33   \n",
       "4      5  LaMarcus Aldridge   C   36  BRK  47  12  1050  252   458  ...   73   \n",
       "..   ...                ...  ..  ...  ...  ..  ..   ...  ...   ...  ...  ...   \n",
       "807  601     Thaddeus Young  PF   33  TOR  26   0   475   67   144  ...   40   \n",
       "808  602         Trae Young  PG   23  ATL  76  76  2652  711  1544  ...   50   \n",
       "809  603     Omer Yurtseven   C   23  MIA  56  12   706  130   247  ...   85   \n",
       "810  604        Cody Zeller   C   29  POR  27   0   355   51    90  ...   50   \n",
       "811  605        Ivica Zubac   C   24  LAC  76  76  1852  310   495  ...  217   \n",
       "\n",
       "     DRB  TRB  AST  STL  BLK  TOV   PF   PTS  Player-additional  \n",
       "0    327  473   82   37   41   84  151   664          achiupr01  \n",
       "1    411  760  256   65   60  115  153   528          adamsst01  \n",
       "2    427  564  190   80   44  148  171  1068          adebaba01  \n",
       "3     54   87   21    6   10   16   36   132          aldamsa01  \n",
       "4    185  258   42   14   47   44   78   607          aldrila01  \n",
       "..   ...  ...  ...  ...  ...  ...  ...   ...                ...  \n",
       "807   75  115   45   31   11   22   43   164          youngth01  \n",
       "808  234  284  737   72    7  303  128  2155          youngtr01  \n",
       "809  209  294   49   17   20   41   84   299          yurtsom01  \n",
       "810   75  125   22    8    6   19   56   140          zelleco01  \n",
       "811  427  644  120   36   77  114  203   785          zubaciv01  \n",
       "\n",
       "[812 rows x 31 columns]"
      ]
     },
     "execution_count": 3,
     "metadata": {},
     "output_type": "execute_result"
    }
   ],
   "source": [
    "df = pd.read_csv('nba_2021_2022.csv')\n",
    "df"
   ]
  },
  {
   "cell_type": "code",
   "execution_count": 4,
   "metadata": {},
   "outputs": [
    {
     "data": {
      "text/plain": [
       "(812, 31)"
      ]
     },
     "execution_count": 4,
     "metadata": {},
     "output_type": "execute_result"
    }
   ],
   "source": [
    "# Data Dimensions\n",
    "\n",
    "df.shape"
   ]
  },
  {
   "cell_type": "code",
   "execution_count": 5,
   "metadata": {},
   "outputs": [
    {
     "data": {
      "text/html": [
       "<div>\n",
       "<style scoped>\n",
       "    .dataframe tbody tr th:only-of-type {\n",
       "        vertical-align: middle;\n",
       "    }\n",
       "\n",
       "    .dataframe tbody tr th {\n",
       "        vertical-align: top;\n",
       "    }\n",
       "\n",
       "    .dataframe thead th {\n",
       "        text-align: right;\n",
       "    }\n",
       "</style>\n",
       "<table border=\"1\" class=\"dataframe\">\n",
       "  <thead>\n",
       "    <tr style=\"text-align: right;\">\n",
       "      <th></th>\n",
       "      <th>Rk</th>\n",
       "      <th>Age</th>\n",
       "      <th>G</th>\n",
       "      <th>GS</th>\n",
       "      <th>MP</th>\n",
       "      <th>FG</th>\n",
       "      <th>FGA</th>\n",
       "      <th>FG%</th>\n",
       "      <th>3P</th>\n",
       "      <th>3PA</th>\n",
       "      <th>...</th>\n",
       "      <th>FT%</th>\n",
       "      <th>ORB</th>\n",
       "      <th>DRB</th>\n",
       "      <th>TRB</th>\n",
       "      <th>AST</th>\n",
       "      <th>STL</th>\n",
       "      <th>BLK</th>\n",
       "      <th>TOV</th>\n",
       "      <th>PF</th>\n",
       "      <th>PTS</th>\n",
       "    </tr>\n",
       "  </thead>\n",
       "  <tbody>\n",
       "    <tr>\n",
       "      <th>count</th>\n",
       "      <td>812.00</td>\n",
       "      <td>812.00</td>\n",
       "      <td>812.00</td>\n",
       "      <td>812.00</td>\n",
       "      <td>812.00</td>\n",
       "      <td>812.00</td>\n",
       "      <td>812.00</td>\n",
       "      <td>797.00</td>\n",
       "      <td>812.00</td>\n",
       "      <td>812.00</td>\n",
       "      <td>...</td>\n",
       "      <td>715.00</td>\n",
       "      <td>812.00</td>\n",
       "      <td>812.00</td>\n",
       "      <td>812.00</td>\n",
       "      <td>812.00</td>\n",
       "      <td>812.00</td>\n",
       "      <td>812.00</td>\n",
       "      <td>812.00</td>\n",
       "      <td>812.00</td>\n",
       "      <td>812.00</td>\n",
       "    </tr>\n",
       "    <tr>\n",
       "      <th>mean</th>\n",
       "      <td>304.50</td>\n",
       "      <td>26.05</td>\n",
       "      <td>36.70</td>\n",
       "      <td>16.67</td>\n",
       "      <td>825.19</td>\n",
       "      <td>137.73</td>\n",
       "      <td>299.63</td>\n",
       "      <td>0.43</td>\n",
       "      <td>42.35</td>\n",
       "      <td>120.04</td>\n",
       "      <td>...</td>\n",
       "      <td>0.75</td>\n",
       "      <td>35.45</td>\n",
       "      <td>116.43</td>\n",
       "      <td>151.88</td>\n",
       "      <td>84.71</td>\n",
       "      <td>26.07</td>\n",
       "      <td>16.08</td>\n",
       "      <td>44.83</td>\n",
       "      <td>67.45</td>\n",
       "      <td>375.46</td>\n",
       "    </tr>\n",
       "    <tr>\n",
       "      <th>std</th>\n",
       "      <td>172.64</td>\n",
       "      <td>4.06</td>\n",
       "      <td>25.90</td>\n",
       "      <td>23.82</td>\n",
       "      <td>775.79</td>\n",
       "      <td>154.74</td>\n",
       "      <td>330.90</td>\n",
       "      <td>0.14</td>\n",
       "      <td>55.20</td>\n",
       "      <td>148.72</td>\n",
       "      <td>...</td>\n",
       "      <td>0.16</td>\n",
       "      <td>46.02</td>\n",
       "      <td>128.74</td>\n",
       "      <td>168.18</td>\n",
       "      <td>113.39</td>\n",
       "      <td>27.23</td>\n",
       "      <td>21.77</td>\n",
       "      <td>52.96</td>\n",
       "      <td>61.62</td>\n",
       "      <td>426.82</td>\n",
       "    </tr>\n",
       "    <tr>\n",
       "      <th>min</th>\n",
       "      <td>1.00</td>\n",
       "      <td>19.00</td>\n",
       "      <td>1.00</td>\n",
       "      <td>0.00</td>\n",
       "      <td>1.00</td>\n",
       "      <td>0.00</td>\n",
       "      <td>0.00</td>\n",
       "      <td>0.00</td>\n",
       "      <td>0.00</td>\n",
       "      <td>0.00</td>\n",
       "      <td>...</td>\n",
       "      <td>0.00</td>\n",
       "      <td>0.00</td>\n",
       "      <td>0.00</td>\n",
       "      <td>0.00</td>\n",
       "      <td>0.00</td>\n",
       "      <td>0.00</td>\n",
       "      <td>0.00</td>\n",
       "      <td>0.00</td>\n",
       "      <td>0.00</td>\n",
       "      <td>0.00</td>\n",
       "    </tr>\n",
       "    <tr>\n",
       "      <th>25%</th>\n",
       "      <td>158.75</td>\n",
       "      <td>23.00</td>\n",
       "      <td>12.00</td>\n",
       "      <td>0.00</td>\n",
       "      <td>121.00</td>\n",
       "      <td>13.75</td>\n",
       "      <td>35.00</td>\n",
       "      <td>0.39</td>\n",
       "      <td>2.00</td>\n",
       "      <td>7.00</td>\n",
       "      <td>...</td>\n",
       "      <td>0.67</td>\n",
       "      <td>4.00</td>\n",
       "      <td>15.00</td>\n",
       "      <td>20.75</td>\n",
       "      <td>7.00</td>\n",
       "      <td>3.00</td>\n",
       "      <td>1.00</td>\n",
       "      <td>5.00</td>\n",
       "      <td>12.00</td>\n",
       "      <td>36.50</td>\n",
       "    </tr>\n",
       "    <tr>\n",
       "      <th>50%</th>\n",
       "      <td>300.50</td>\n",
       "      <td>25.00</td>\n",
       "      <td>36.50</td>\n",
       "      <td>4.00</td>\n",
       "      <td>577.50</td>\n",
       "      <td>81.00</td>\n",
       "      <td>182.50</td>\n",
       "      <td>0.44</td>\n",
       "      <td>17.00</td>\n",
       "      <td>54.00</td>\n",
       "      <td>...</td>\n",
       "      <td>0.77</td>\n",
       "      <td>20.00</td>\n",
       "      <td>74.00</td>\n",
       "      <td>100.00</td>\n",
       "      <td>41.00</td>\n",
       "      <td>17.00</td>\n",
       "      <td>9.00</td>\n",
       "      <td>28.00</td>\n",
       "      <td>52.00</td>\n",
       "      <td>214.00</td>\n",
       "    </tr>\n",
       "    <tr>\n",
       "      <th>75%</th>\n",
       "      <td>459.00</td>\n",
       "      <td>29.00</td>\n",
       "      <td>61.00</td>\n",
       "      <td>25.00</td>\n",
       "      <td>1414.50</td>\n",
       "      <td>216.25</td>\n",
       "      <td>466.50</td>\n",
       "      <td>0.50</td>\n",
       "      <td>63.25</td>\n",
       "      <td>186.25</td>\n",
       "      <td>...</td>\n",
       "      <td>0.85</td>\n",
       "      <td>46.00</td>\n",
       "      <td>176.50</td>\n",
       "      <td>226.00</td>\n",
       "      <td>113.25</td>\n",
       "      <td>42.00</td>\n",
       "      <td>22.00</td>\n",
       "      <td>65.00</td>\n",
       "      <td>110.00</td>\n",
       "      <td>592.50</td>\n",
       "    </tr>\n",
       "    <tr>\n",
       "      <th>max</th>\n",
       "      <td>605.00</td>\n",
       "      <td>41.00</td>\n",
       "      <td>82.00</td>\n",
       "      <td>82.00</td>\n",
       "      <td>2854.00</td>\n",
       "      <td>774.00</td>\n",
       "      <td>1564.00</td>\n",
       "      <td>1.00</td>\n",
       "      <td>285.00</td>\n",
       "      <td>750.00</td>\n",
       "      <td>...</td>\n",
       "      <td>1.00</td>\n",
       "      <td>349.00</td>\n",
       "      <td>813.00</td>\n",
       "      <td>1019.00</td>\n",
       "      <td>737.00</td>\n",
       "      <td>138.00</td>\n",
       "      <td>177.00</td>\n",
       "      <td>303.00</td>\n",
       "      <td>286.00</td>\n",
       "      <td>2155.00</td>\n",
       "    </tr>\n",
       "  </tbody>\n",
       "</table>\n",
       "<p>8 rows × 27 columns</p>\n",
       "</div>"
      ],
      "text/plain": [
       "          Rk    Age      G     GS      MP     FG     FGA    FG%     3P    3PA  \\\n",
       "count 812.00 812.00 812.00 812.00  812.00 812.00  812.00 797.00 812.00 812.00   \n",
       "mean  304.50  26.05  36.70  16.67  825.19 137.73  299.63   0.43  42.35 120.04   \n",
       "std   172.64   4.06  25.90  23.82  775.79 154.74  330.90   0.14  55.20 148.72   \n",
       "min     1.00  19.00   1.00   0.00    1.00   0.00    0.00   0.00   0.00   0.00   \n",
       "25%   158.75  23.00  12.00   0.00  121.00  13.75   35.00   0.39   2.00   7.00   \n",
       "50%   300.50  25.00  36.50   4.00  577.50  81.00  182.50   0.44  17.00  54.00   \n",
       "75%   459.00  29.00  61.00  25.00 1414.50 216.25  466.50   0.50  63.25 186.25   \n",
       "max   605.00  41.00  82.00  82.00 2854.00 774.00 1564.00   1.00 285.00 750.00   \n",
       "\n",
       "       ...    FT%    ORB    DRB     TRB    AST    STL    BLK    TOV     PF  \\\n",
       "count  ... 715.00 812.00 812.00  812.00 812.00 812.00 812.00 812.00 812.00   \n",
       "mean   ...   0.75  35.45 116.43  151.88  84.71  26.07  16.08  44.83  67.45   \n",
       "std    ...   0.16  46.02 128.74  168.18 113.39  27.23  21.77  52.96  61.62   \n",
       "min    ...   0.00   0.00   0.00    0.00   0.00   0.00   0.00   0.00   0.00   \n",
       "25%    ...   0.67   4.00  15.00   20.75   7.00   3.00   1.00   5.00  12.00   \n",
       "50%    ...   0.77  20.00  74.00  100.00  41.00  17.00   9.00  28.00  52.00   \n",
       "75%    ...   0.85  46.00 176.50  226.00 113.25  42.00  22.00  65.00 110.00   \n",
       "max    ...   1.00 349.00 813.00 1019.00 737.00 138.00 177.00 303.00 286.00   \n",
       "\n",
       "          PTS  \n",
       "count  812.00  \n",
       "mean   375.46  \n",
       "std    426.82  \n",
       "min      0.00  \n",
       "25%     36.50  \n",
       "50%    214.00  \n",
       "75%    592.50  \n",
       "max   2155.00  \n",
       "\n",
       "[8 rows x 27 columns]"
      ]
     },
     "execution_count": 5,
     "metadata": {},
     "output_type": "execute_result"
    }
   ],
   "source": [
    "# Descriptive Statistics\n",
    "\n",
    "df.describe()"
   ]
  },
  {
   "cell_type": "code",
   "execution_count": 6,
   "metadata": {},
   "outputs": [
    {
     "name": "stdout",
     "output_type": "stream",
     "text": [
      "31\n"
     ]
    },
    {
     "data": {
      "text/plain": [
       "array(['TOR', 'MEM', 'MIA', 'BRK', 'TOT', 'NOP', 'UTA', 'MIL', 'CLE',\n",
       "       'IND', 'LAL', 'ORL', 'NYK', 'HOU', 'WAS', 'PHO', 'SAC', 'DET',\n",
       "       'CHO', 'CHI', 'ATL', 'DEN', 'PHI', 'SAS', 'LAC', 'OKC', 'MIN',\n",
       "       'DAL', 'GSW', 'POR', 'BOS'], dtype=object)"
      ]
     },
     "execution_count": 6,
     "metadata": {},
     "output_type": "execute_result"
    }
   ],
   "source": [
    "# Verificando o\n",
    "\n",
    "print(len(df['Tm'].unique()))\n",
    "df['Tm'].unique()\n"
   ]
  },
  {
   "cell_type": "code",
   "execution_count": 7,
   "metadata": {},
   "outputs": [],
   "source": [
    "# Eliminando registros com os totais de jogadores que passaram por mais de 1 time ('TOT') na temporada, pois será contabilizado como dado duplicado\n",
    "\n",
    "df1 = df[(df['Tm'] != 'TOT')]"
   ]
  },
  {
   "cell_type": "markdown",
   "metadata": {},
   "source": [
    "## Dataset para ser utilizado para análise dos jogadores"
   ]
  },
  {
   "cell_type": "code",
   "execution_count": 8,
   "metadata": {},
   "outputs": [
    {
     "data": {
      "text/html": [
       "<div>\n",
       "<style scoped>\n",
       "    .dataframe tbody tr th:only-of-type {\n",
       "        vertical-align: middle;\n",
       "    }\n",
       "\n",
       "    .dataframe tbody tr th {\n",
       "        vertical-align: top;\n",
       "    }\n",
       "\n",
       "    .dataframe thead th {\n",
       "        text-align: right;\n",
       "    }\n",
       "</style>\n",
       "<table border=\"1\" class=\"dataframe\">\n",
       "  <thead>\n",
       "    <tr style=\"text-align: right;\">\n",
       "      <th></th>\n",
       "      <th>Player</th>\n",
       "      <th>Rk</th>\n",
       "      <th>Age</th>\n",
       "      <th>G</th>\n",
       "      <th>GS</th>\n",
       "      <th>MP</th>\n",
       "      <th>FG</th>\n",
       "      <th>FGA</th>\n",
       "      <th>FG%</th>\n",
       "      <th>3P</th>\n",
       "      <th>...</th>\n",
       "      <th>FT%</th>\n",
       "      <th>ORB</th>\n",
       "      <th>DRB</th>\n",
       "      <th>TRB</th>\n",
       "      <th>AST</th>\n",
       "      <th>STL</th>\n",
       "      <th>BLK</th>\n",
       "      <th>TOV</th>\n",
       "      <th>PF</th>\n",
       "      <th>PTS</th>\n",
       "    </tr>\n",
       "  </thead>\n",
       "  <tbody>\n",
       "    <tr>\n",
       "      <th>258</th>\n",
       "      <td>James Harden</td>\n",
       "      <td>436</td>\n",
       "      <td>64</td>\n",
       "      <td>65</td>\n",
       "      <td>65</td>\n",
       "      <td>2419</td>\n",
       "      <td>407</td>\n",
       "      <td>992</td>\n",
       "      <td>0.82</td>\n",
       "      <td>148</td>\n",
       "      <td>...</td>\n",
       "      <td>1.76</td>\n",
       "      <td>55</td>\n",
       "      <td>445</td>\n",
       "      <td>500</td>\n",
       "      <td>667</td>\n",
       "      <td>82</td>\n",
       "      <td>36</td>\n",
       "      <td>284</td>\n",
       "      <td>153</td>\n",
       "      <td>1432</td>\n",
       "    </tr>\n",
       "  </tbody>\n",
       "</table>\n",
       "<p>1 rows × 28 columns</p>\n",
       "</div>"
      ],
      "text/plain": [
       "           Player   Rk  Age   G  GS    MP   FG  FGA  FG%   3P  ...  FT%  ORB  \\\n",
       "258  James Harden  436   64  65  65  2419  407  992 0.82  148  ... 1.76   55   \n",
       "\n",
       "     DRB  TRB  AST  STL  BLK  TOV   PF   PTS  \n",
       "258  445  500  667   82   36  284  153  1432  \n",
       "\n",
       "[1 rows x 28 columns]"
      ]
     },
     "execution_count": 8,
     "metadata": {},
     "output_type": "execute_result"
    }
   ],
   "source": [
    "# Dataframe agrupado por jogador ( Dados excluídos: Time, posição )\n",
    "\n",
    "df_player = df1.groupby('Player').sum().reset_index()\n",
    "df_player[df_player['Player'] == 'James Harden']"
   ]
  },
  {
   "cell_type": "code",
   "execution_count": 9,
   "metadata": {},
   "outputs": [
    {
     "data": {
      "text/html": [
       "<div>\n",
       "<style scoped>\n",
       "    .dataframe tbody tr th:only-of-type {\n",
       "        vertical-align: middle;\n",
       "    }\n",
       "\n",
       "    .dataframe tbody tr th {\n",
       "        vertical-align: top;\n",
       "    }\n",
       "\n",
       "    .dataframe thead th {\n",
       "        text-align: right;\n",
       "    }\n",
       "</style>\n",
       "<table border=\"1\" class=\"dataframe\">\n",
       "  <thead>\n",
       "    <tr style=\"text-align: right;\">\n",
       "      <th></th>\n",
       "      <th>Player</th>\n",
       "      <th>Rk</th>\n",
       "      <th>Age</th>\n",
       "      <th>G</th>\n",
       "      <th>GS</th>\n",
       "      <th>MP</th>\n",
       "      <th>FG</th>\n",
       "      <th>FGA</th>\n",
       "      <th>FG%</th>\n",
       "      <th>3P</th>\n",
       "      <th>...</th>\n",
       "      <th>FT%</th>\n",
       "      <th>ORB</th>\n",
       "      <th>DRB</th>\n",
       "      <th>TRB</th>\n",
       "      <th>AST</th>\n",
       "      <th>STL</th>\n",
       "      <th>BLK</th>\n",
       "      <th>TOV</th>\n",
       "      <th>PF</th>\n",
       "      <th>PTS</th>\n",
       "    </tr>\n",
       "  </thead>\n",
       "  <tbody>\n",
       "    <tr>\n",
       "      <th>258</th>\n",
       "      <td>James Harden</td>\n",
       "      <td>436</td>\n",
       "      <td>64</td>\n",
       "      <td>65</td>\n",
       "      <td>65</td>\n",
       "      <td>2419</td>\n",
       "      <td>407</td>\n",
       "      <td>992</td>\n",
       "      <td>0.41</td>\n",
       "      <td>148</td>\n",
       "      <td>...</td>\n",
       "      <td>0.88</td>\n",
       "      <td>55</td>\n",
       "      <td>445</td>\n",
       "      <td>500</td>\n",
       "      <td>667</td>\n",
       "      <td>82</td>\n",
       "      <td>36</td>\n",
       "      <td>284</td>\n",
       "      <td>153</td>\n",
       "      <td>1432</td>\n",
       "    </tr>\n",
       "  </tbody>\n",
       "</table>\n",
       "<p>1 rows × 28 columns</p>\n",
       "</div>"
      ],
      "text/plain": [
       "           Player   Rk  Age   G  GS    MP   FG  FGA  FG%   3P  ...  FT%  ORB  \\\n",
       "258  James Harden  436   64  65  65  2419  407  992 0.41  148  ... 0.88   55   \n",
       "\n",
       "     DRB  TRB  AST  STL  BLK  TOV   PF   PTS  \n",
       "258  445  500  667   82   36  284  153  1432  \n",
       "\n",
       "[1 rows x 28 columns]"
      ]
     },
     "execution_count": 9,
     "metadata": {},
     "output_type": "execute_result"
    }
   ],
   "source": [
    "# Como foram feitas as somas dos dados dos jogadores para unificá-los em um único registro, será necessário recalcular os valores percentuais.\n",
    "# Esses valores foram somados nos casos de jogadores que passaram por mais de um time.\n",
    "# São eles:FG%, 2PA%, 3PA%, eFG% e FT%\n",
    "\n",
    "df_player['FG%'] = df_player['FG'] / df_player['FGA'] \n",
    "df_player['2P%'] = df_player['2P'] / df_player['2PA']\n",
    "df_player['3P%'] = df_player['3P'] / df_player['3PA']\n",
    "df_player['FT%'] = df_player['FT'] / df_player['FTA']\n",
    "df_player['eFG%'] = (df_player['FG'] + (0.5 * df_player['3P'])) / df_player['FGA']\n",
    "\n",
    "df_player[df_player['Player'] == 'James Harden']"
   ]
  },
  {
   "cell_type": "markdown",
   "metadata": {},
   "source": [
    "## Criação de features de estatísticas por jogo"
   ]
  },
  {
   "cell_type": "code",
   "execution_count": 10,
   "metadata": {},
   "outputs": [],
   "source": [
    "# Rebotes por jogo\n",
    "df_player['RPG'] = df_player['TRB'] / df_player['G']\n",
    "\n",
    "# Bloqueios por jogo\n",
    "df_player['BLKPG'] = df_player['BLK'] / df_player['G']\n",
    "\n",
    "# Roubos por jogo\n",
    "df_player['SPG'] = df_player['STL'] / df_player['G']\n",
    "\n",
    "# Pontos por jogo\n",
    "df_player['PPG'] = df_player['PTS'] / df_player['G']\n",
    "\n",
    "# Turn overs por jogo\n",
    "df_player['TOVPG'] = df_player['TOV'] / df_player['G']\n",
    "\n",
    "# Faltas pessoais por jogo\n",
    "df_player['PFPG'] = df_player['PF'] / df_player['G']\n",
    "\n"
   ]
  },
  {
   "cell_type": "markdown",
   "metadata": {},
   "source": [
    "## Dataset para ser utilizado nas análises dos times"
   ]
  },
  {
   "cell_type": "code",
   "execution_count": 11,
   "metadata": {},
   "outputs": [
    {
     "data": {
      "text/html": [
       "<div>\n",
       "<style scoped>\n",
       "    .dataframe tbody tr th:only-of-type {\n",
       "        vertical-align: middle;\n",
       "    }\n",
       "\n",
       "    .dataframe tbody tr th {\n",
       "        vertical-align: top;\n",
       "    }\n",
       "\n",
       "    .dataframe thead th {\n",
       "        text-align: right;\n",
       "    }\n",
       "</style>\n",
       "<table border=\"1\" class=\"dataframe\">\n",
       "  <thead>\n",
       "    <tr style=\"text-align: right;\">\n",
       "      <th></th>\n",
       "      <th>Tm</th>\n",
       "      <th>FG</th>\n",
       "      <th>FGA</th>\n",
       "      <th>FG%</th>\n",
       "      <th>3P</th>\n",
       "      <th>3PA</th>\n",
       "      <th>3P%</th>\n",
       "      <th>2P</th>\n",
       "      <th>2PA</th>\n",
       "      <th>2P%</th>\n",
       "      <th>...</th>\n",
       "      <th>FT%</th>\n",
       "      <th>ORB</th>\n",
       "      <th>DRB</th>\n",
       "      <th>TRB</th>\n",
       "      <th>AST</th>\n",
       "      <th>STL</th>\n",
       "      <th>BLK</th>\n",
       "      <th>TOV</th>\n",
       "      <th>TF</th>\n",
       "      <th>PTS</th>\n",
       "    </tr>\n",
       "  </thead>\n",
       "  <tbody>\n",
       "    <tr>\n",
       "      <th>0</th>\n",
       "      <td>ATL</td>\n",
       "      <td>3401</td>\n",
       "      <td>7241</td>\n",
       "      <td>10.41</td>\n",
       "      <td>1056</td>\n",
       "      <td>2821</td>\n",
       "      <td>7.17</td>\n",
       "      <td>2345</td>\n",
       "      <td>4420</td>\n",
       "      <td>11.63</td>\n",
       "      <td>...</td>\n",
       "      <td>16.52</td>\n",
       "      <td>823</td>\n",
       "      <td>2783</td>\n",
       "      <td>3606</td>\n",
       "      <td>2017</td>\n",
       "      <td>587</td>\n",
       "      <td>348</td>\n",
       "      <td>924</td>\n",
       "      <td>1534</td>\n",
       "      <td>9343</td>\n",
       "    </tr>\n",
       "    <tr>\n",
       "      <th>1</th>\n",
       "      <td>BOS</td>\n",
       "      <td>3341</td>\n",
       "      <td>7167</td>\n",
       "      <td>11.46</td>\n",
       "      <td>1085</td>\n",
       "      <td>3044</td>\n",
       "      <td>7.98</td>\n",
       "      <td>2256</td>\n",
       "      <td>4123</td>\n",
       "      <td>12.64</td>\n",
       "      <td>...</td>\n",
       "      <td>16.61</td>\n",
       "      <td>863</td>\n",
       "      <td>2915</td>\n",
       "      <td>3778</td>\n",
       "      <td>2036</td>\n",
       "      <td>591</td>\n",
       "      <td>478</td>\n",
       "      <td>1070</td>\n",
       "      <td>1521</td>\n",
       "      <td>9164</td>\n",
       "    </tr>\n",
       "    <tr>\n",
       "      <th>2</th>\n",
       "      <td>BRK</td>\n",
       "      <td>3442</td>\n",
       "      <td>7251</td>\n",
       "      <td>10.43</td>\n",
       "      <td>940</td>\n",
       "      <td>2602</td>\n",
       "      <td>6.83</td>\n",
       "      <td>2502</td>\n",
       "      <td>4649</td>\n",
       "      <td>11.59</td>\n",
       "      <td>...</td>\n",
       "      <td>15.01</td>\n",
       "      <td>844</td>\n",
       "      <td>2796</td>\n",
       "      <td>3640</td>\n",
       "      <td>2071</td>\n",
       "      <td>582</td>\n",
       "      <td>448</td>\n",
       "      <td>1086</td>\n",
       "      <td>1670</td>\n",
       "      <td>9258</td>\n",
       "    </tr>\n",
       "    <tr>\n",
       "      <th>3</th>\n",
       "      <td>CHI</td>\n",
       "      <td>3422</td>\n",
       "      <td>7127</td>\n",
       "      <td>10.51</td>\n",
       "      <td>872</td>\n",
       "      <td>2364</td>\n",
       "      <td>5.59</td>\n",
       "      <td>2550</td>\n",
       "      <td>4763</td>\n",
       "      <td>11.72</td>\n",
       "      <td>...</td>\n",
       "      <td>14.16</td>\n",
       "      <td>711</td>\n",
       "      <td>2760</td>\n",
       "      <td>3471</td>\n",
       "      <td>1958</td>\n",
       "      <td>585</td>\n",
       "      <td>336</td>\n",
       "      <td>994</td>\n",
       "      <td>1540</td>\n",
       "      <td>9152</td>\n",
       "    </tr>\n",
       "    <tr>\n",
       "      <th>4</th>\n",
       "      <td>CHO</td>\n",
       "      <td>3508</td>\n",
       "      <td>7497</td>\n",
       "      <td>8.41</td>\n",
       "      <td>1143</td>\n",
       "      <td>3130</td>\n",
       "      <td>4.86</td>\n",
       "      <td>2365</td>\n",
       "      <td>4367</td>\n",
       "      <td>9.30</td>\n",
       "      <td>...</td>\n",
       "      <td>12.55</td>\n",
       "      <td>888</td>\n",
       "      <td>2767</td>\n",
       "      <td>3655</td>\n",
       "      <td>2302</td>\n",
       "      <td>707</td>\n",
       "      <td>402</td>\n",
       "      <td>1042</td>\n",
       "      <td>1629</td>\n",
       "      <td>9457</td>\n",
       "    </tr>\n",
       "  </tbody>\n",
       "</table>\n",
       "<p>5 rows × 23 columns</p>\n",
       "</div>"
      ],
      "text/plain": [
       "    Tm    FG   FGA   FG%    3P   3PA  3P%    2P   2PA   2P%  ...   FT%  ORB  \\\n",
       "0  ATL  3401  7241 10.41  1056  2821 7.17  2345  4420 11.63  ... 16.52  823   \n",
       "1  BOS  3341  7167 11.46  1085  3044 7.98  2256  4123 12.64  ... 16.61  863   \n",
       "2  BRK  3442  7251 10.43   940  2602 6.83  2502  4649 11.59  ... 15.01  844   \n",
       "3  CHI  3422  7127 10.51   872  2364 5.59  2550  4763 11.72  ... 14.16  711   \n",
       "4  CHO  3508  7497  8.41  1143  3130 4.86  2365  4367  9.30  ... 12.55  888   \n",
       "\n",
       "    DRB   TRB   AST  STL  BLK   TOV    TF   PTS  \n",
       "0  2783  3606  2017  587  348   924  1534  9343  \n",
       "1  2915  3778  2036  591  478  1070  1521  9164  \n",
       "2  2796  3640  2071  582  448  1086  1670  9258  \n",
       "3  2760  3471  1958  585  336   994  1540  9152  \n",
       "4  2767  3655  2302  707  402  1042  1629  9457  \n",
       "\n",
       "[5 rows x 23 columns]"
      ]
     },
     "execution_count": 11,
     "metadata": {},
     "output_type": "execute_result"
    }
   ],
   "source": [
    "df_teams = df1.groupby('Tm').sum().reset_index()\n",
    "df_teams.drop(columns=(['Rk', 'Age', 'G', 'GS', 'MP']), inplace=True)\n",
    "\n",
    "\n",
    "# Renomar a coluna 'PF' (Personal Fouls) para 'TF' (Total Fouls), já que, ao se fazer a soma das faltas dos jogadores, temos o total de faltas pela equipe.\n",
    "df_teams.rename(columns={'PF':'TF'}, inplace=True)\n",
    "df_teams.head()"
   ]
  },
  {
   "cell_type": "markdown",
   "metadata": {},
   "source": [
    "## Assim como no dataset de jogadores, foram feitas as somas dos dados dos times para unificá-los em um único registro. Também será necessário recalcular os valores percentuais.\n",
    "## São eles:FG%, 2PA%, 3PA%, eFG% e FT%\n"
   ]
  },
  {
   "cell_type": "code",
   "execution_count": 12,
   "metadata": {},
   "outputs": [
    {
     "data": {
      "text/html": [
       "<div>\n",
       "<style scoped>\n",
       "    .dataframe tbody tr th:only-of-type {\n",
       "        vertical-align: middle;\n",
       "    }\n",
       "\n",
       "    .dataframe tbody tr th {\n",
       "        vertical-align: top;\n",
       "    }\n",
       "\n",
       "    .dataframe thead th {\n",
       "        text-align: right;\n",
       "    }\n",
       "</style>\n",
       "<table border=\"1\" class=\"dataframe\">\n",
       "  <thead>\n",
       "    <tr style=\"text-align: right;\">\n",
       "      <th></th>\n",
       "      <th>Tm</th>\n",
       "      <th>FG</th>\n",
       "      <th>FGA</th>\n",
       "      <th>FG%</th>\n",
       "      <th>3P</th>\n",
       "      <th>3PA</th>\n",
       "      <th>3P%</th>\n",
       "      <th>2P</th>\n",
       "      <th>2PA</th>\n",
       "      <th>2P%</th>\n",
       "      <th>...</th>\n",
       "      <th>FT%</th>\n",
       "      <th>ORB</th>\n",
       "      <th>DRB</th>\n",
       "      <th>TRB</th>\n",
       "      <th>AST</th>\n",
       "      <th>STL</th>\n",
       "      <th>BLK</th>\n",
       "      <th>TOV</th>\n",
       "      <th>TF</th>\n",
       "      <th>PTS</th>\n",
       "    </tr>\n",
       "  </thead>\n",
       "  <tbody>\n",
       "    <tr>\n",
       "      <th>0</th>\n",
       "      <td>ATL</td>\n",
       "      <td>3401</td>\n",
       "      <td>7241</td>\n",
       "      <td>0.47</td>\n",
       "      <td>1056</td>\n",
       "      <td>2821</td>\n",
       "      <td>0.37</td>\n",
       "      <td>2345</td>\n",
       "      <td>4420</td>\n",
       "      <td>0.53</td>\n",
       "      <td>...</td>\n",
       "      <td>0.81</td>\n",
       "      <td>823</td>\n",
       "      <td>2783</td>\n",
       "      <td>3606</td>\n",
       "      <td>2017</td>\n",
       "      <td>587</td>\n",
       "      <td>348</td>\n",
       "      <td>924</td>\n",
       "      <td>1534</td>\n",
       "      <td>9343</td>\n",
       "    </tr>\n",
       "    <tr>\n",
       "      <th>1</th>\n",
       "      <td>BOS</td>\n",
       "      <td>3341</td>\n",
       "      <td>7167</td>\n",
       "      <td>0.47</td>\n",
       "      <td>1085</td>\n",
       "      <td>3044</td>\n",
       "      <td>0.36</td>\n",
       "      <td>2256</td>\n",
       "      <td>4123</td>\n",
       "      <td>0.55</td>\n",
       "      <td>...</td>\n",
       "      <td>0.82</td>\n",
       "      <td>863</td>\n",
       "      <td>2915</td>\n",
       "      <td>3778</td>\n",
       "      <td>2036</td>\n",
       "      <td>591</td>\n",
       "      <td>478</td>\n",
       "      <td>1070</td>\n",
       "      <td>1521</td>\n",
       "      <td>9164</td>\n",
       "    </tr>\n",
       "    <tr>\n",
       "      <th>2</th>\n",
       "      <td>BRK</td>\n",
       "      <td>3442</td>\n",
       "      <td>7251</td>\n",
       "      <td>0.47</td>\n",
       "      <td>940</td>\n",
       "      <td>2602</td>\n",
       "      <td>0.36</td>\n",
       "      <td>2502</td>\n",
       "      <td>4649</td>\n",
       "      <td>0.54</td>\n",
       "      <td>...</td>\n",
       "      <td>0.81</td>\n",
       "      <td>844</td>\n",
       "      <td>2796</td>\n",
       "      <td>3640</td>\n",
       "      <td>2071</td>\n",
       "      <td>582</td>\n",
       "      <td>448</td>\n",
       "      <td>1086</td>\n",
       "      <td>1670</td>\n",
       "      <td>9258</td>\n",
       "    </tr>\n",
       "    <tr>\n",
       "      <th>3</th>\n",
       "      <td>CHI</td>\n",
       "      <td>3422</td>\n",
       "      <td>7127</td>\n",
       "      <td>0.48</td>\n",
       "      <td>872</td>\n",
       "      <td>2364</td>\n",
       "      <td>0.37</td>\n",
       "      <td>2550</td>\n",
       "      <td>4763</td>\n",
       "      <td>0.54</td>\n",
       "      <td>...</td>\n",
       "      <td>0.81</td>\n",
       "      <td>711</td>\n",
       "      <td>2760</td>\n",
       "      <td>3471</td>\n",
       "      <td>1958</td>\n",
       "      <td>585</td>\n",
       "      <td>336</td>\n",
       "      <td>994</td>\n",
       "      <td>1540</td>\n",
       "      <td>9152</td>\n",
       "    </tr>\n",
       "    <tr>\n",
       "      <th>4</th>\n",
       "      <td>CHO</td>\n",
       "      <td>3508</td>\n",
       "      <td>7497</td>\n",
       "      <td>0.47</td>\n",
       "      <td>1143</td>\n",
       "      <td>3130</td>\n",
       "      <td>0.37</td>\n",
       "      <td>2365</td>\n",
       "      <td>4367</td>\n",
       "      <td>0.54</td>\n",
       "      <td>...</td>\n",
       "      <td>0.74</td>\n",
       "      <td>888</td>\n",
       "      <td>2767</td>\n",
       "      <td>3655</td>\n",
       "      <td>2302</td>\n",
       "      <td>707</td>\n",
       "      <td>402</td>\n",
       "      <td>1042</td>\n",
       "      <td>1629</td>\n",
       "      <td>9457</td>\n",
       "    </tr>\n",
       "  </tbody>\n",
       "</table>\n",
       "<p>5 rows × 23 columns</p>\n",
       "</div>"
      ],
      "text/plain": [
       "    Tm    FG   FGA  FG%    3P   3PA  3P%    2P   2PA  2P%  ...  FT%  ORB  \\\n",
       "0  ATL  3401  7241 0.47  1056  2821 0.37  2345  4420 0.53  ... 0.81  823   \n",
       "1  BOS  3341  7167 0.47  1085  3044 0.36  2256  4123 0.55  ... 0.82  863   \n",
       "2  BRK  3442  7251 0.47   940  2602 0.36  2502  4649 0.54  ... 0.81  844   \n",
       "3  CHI  3422  7127 0.48   872  2364 0.37  2550  4763 0.54  ... 0.81  711   \n",
       "4  CHO  3508  7497 0.47  1143  3130 0.37  2365  4367 0.54  ... 0.74  888   \n",
       "\n",
       "    DRB   TRB   AST  STL  BLK   TOV    TF   PTS  \n",
       "0  2783  3606  2017  587  348   924  1534  9343  \n",
       "1  2915  3778  2036  591  478  1070  1521  9164  \n",
       "2  2796  3640  2071  582  448  1086  1670  9258  \n",
       "3  2760  3471  1958  585  336   994  1540  9152  \n",
       "4  2767  3655  2302  707  402  1042  1629  9457  \n",
       "\n",
       "[5 rows x 23 columns]"
      ]
     },
     "execution_count": 12,
     "metadata": {},
     "output_type": "execute_result"
    }
   ],
   "source": [
    "df_teams['FG%'] = df_teams['FG'] / df_teams['FGA'] \n",
    "df_teams['2P%'] = df_teams['2P'] / df_teams['2PA']\n",
    "df_teams['3P%'] = df_teams['3P'] / df_teams['3PA']\n",
    "df_teams['FT%'] = df_teams['FT'] / df_teams['FTA']\n",
    "df_teams['eFG%'] = (df_teams['FG'] + (0.5 * df_teams['3P'])) / df_teams['FGA']\n",
    "df_teams.head()\n"
   ]
  },
  {
   "cell_type": "code",
   "execution_count": 13,
   "metadata": {},
   "outputs": [],
   "source": [
    "#df_teams['RPG'] = df_teams['TRB'] / df_teams['G']\n",
    "#df_teams['BLKPG'] = df_teams['BLK'] / df_teams['G']\n",
    "#df_teams['SPG'] = df_teams['STL'] / df_teams['G']\n",
    "#df_teams['PPG'] = df_teams['PTS'] / df_teams['G']\n",
    "#df_teams['TOVPG'] = df_teams['TOV'] / df_teams['G']\n",
    "#df_teams['PFPG'] = df_teams['PF'] / df_teams['G']\n"
   ]
  },
  {
   "cell_type": "markdown",
   "metadata": {},
   "source": [
    "## 1 - Quais jogadores fizeram mais pontos na temporada\n"
   ]
  },
  {
   "cell_type": "code",
   "execution_count": 14,
   "metadata": {},
   "outputs": [
    {
     "data": {
      "text/html": [
       "<div>\n",
       "<style scoped>\n",
       "    .dataframe tbody tr th:only-of-type {\n",
       "        vertical-align: middle;\n",
       "    }\n",
       "\n",
       "    .dataframe tbody tr th {\n",
       "        vertical-align: top;\n",
       "    }\n",
       "\n",
       "    .dataframe thead th {\n",
       "        text-align: right;\n",
       "    }\n",
       "</style>\n",
       "<table border=\"1\" class=\"dataframe\">\n",
       "  <thead>\n",
       "    <tr style=\"text-align: right;\">\n",
       "      <th></th>\n",
       "      <th>Player</th>\n",
       "      <th>PTS</th>\n",
       "    </tr>\n",
       "  </thead>\n",
       "  <tbody>\n",
       "    <tr>\n",
       "      <th>0</th>\n",
       "      <td>Trae Young</td>\n",
       "      <td>2155</td>\n",
       "    </tr>\n",
       "    <tr>\n",
       "      <th>1</th>\n",
       "      <td>DeMar DeRozan</td>\n",
       "      <td>2118</td>\n",
       "    </tr>\n",
       "    <tr>\n",
       "      <th>2</th>\n",
       "      <td>Joel Embiid</td>\n",
       "      <td>2079</td>\n",
       "    </tr>\n",
       "    <tr>\n",
       "      <th>3</th>\n",
       "      <td>Jayson Tatum</td>\n",
       "      <td>2046</td>\n",
       "    </tr>\n",
       "    <tr>\n",
       "      <th>4</th>\n",
       "      <td>Nikola Jokić</td>\n",
       "      <td>2004</td>\n",
       "    </tr>\n",
       "    <tr>\n",
       "      <th>5</th>\n",
       "      <td>Giannis Antetokounmpo</td>\n",
       "      <td>2002</td>\n",
       "    </tr>\n",
       "    <tr>\n",
       "      <th>6</th>\n",
       "      <td>Luka Dončić</td>\n",
       "      <td>1847</td>\n",
       "    </tr>\n",
       "    <tr>\n",
       "      <th>7</th>\n",
       "      <td>Devin Booker</td>\n",
       "      <td>1822</td>\n",
       "    </tr>\n",
       "    <tr>\n",
       "      <th>8</th>\n",
       "      <td>Karl-Anthony Towns</td>\n",
       "      <td>1818</td>\n",
       "    </tr>\n",
       "    <tr>\n",
       "      <th>9</th>\n",
       "      <td>Donovan Mitchell</td>\n",
       "      <td>1733</td>\n",
       "    </tr>\n",
       "  </tbody>\n",
       "</table>\n",
       "</div>"
      ],
      "text/plain": [
       "                  Player   PTS\n",
       "0             Trae Young  2155\n",
       "1          DeMar DeRozan  2118\n",
       "2            Joel Embiid  2079\n",
       "3           Jayson Tatum  2046\n",
       "4           Nikola Jokić  2004\n",
       "5  Giannis Antetokounmpo  2002\n",
       "6            Luka Dončić  1847\n",
       "7           Devin Booker  1822\n",
       "8     Karl-Anthony Towns  1818\n",
       "9       Donovan Mitchell  1733"
      ]
     },
     "execution_count": 14,
     "metadata": {},
     "output_type": "execute_result"
    }
   ],
   "source": [
    "top10_pts = df_player.sort_values('PTS', ascending=False).reset_index()[['Player', 'PTS']].head(10)\n",
    "top10_pts"
   ]
  },
  {
   "cell_type": "code",
   "execution_count": 15,
   "metadata": {},
   "outputs": [
    {
     "data": {
      "application/vnd.plotly.v1+json": {
       "config": {
        "plotlyServerURL": "https://plot.ly"
       },
       "data": [
        {
         "alignmentgroup": "True",
         "cliponaxis": false,
         "hovertemplate": "Player=%{x}<br>PTS=%{text}<extra></extra>",
         "legendgroup": "",
         "marker": {
          "color": "#636efa",
          "pattern": {
           "shape": ""
          }
         },
         "name": "",
         "offsetgroup": "",
         "orientation": "v",
         "showlegend": false,
         "text": [
          2155,
          2118,
          2079,
          2046,
          2004,
          2002,
          1847,
          1822,
          1818,
          1733
         ],
         "textposition": "outside",
         "type": "bar",
         "x": [
          "Trae Young",
          "DeMar DeRozan",
          "Joel Embiid",
          "Jayson Tatum",
          "Nikola Jokić",
          "Giannis Antetokounmpo",
          "Luka Dončić",
          "Devin Booker",
          "Karl-Anthony Towns",
          "Donovan Mitchell"
         ],
         "xaxis": "x",
         "y": [
          2155,
          2118,
          2079,
          2046,
          2004,
          2002,
          1847,
          1822,
          1818,
          1733
         ],
         "yaxis": "y"
        }
       ],
       "layout": {
        "barmode": "relative",
        "legend": {
         "tracegroupgap": 0
        },
        "template": {
         "data": {
          "bar": [
           {
            "error_x": {
             "color": "#2a3f5f"
            },
            "error_y": {
             "color": "#2a3f5f"
            },
            "marker": {
             "line": {
              "color": "#E5ECF6",
              "width": 0.5
             },
             "pattern": {
              "fillmode": "overlay",
              "size": 10,
              "solidity": 0.2
             }
            },
            "type": "bar"
           }
          ],
          "barpolar": [
           {
            "marker": {
             "line": {
              "color": "#E5ECF6",
              "width": 0.5
             },
             "pattern": {
              "fillmode": "overlay",
              "size": 10,
              "solidity": 0.2
             }
            },
            "type": "barpolar"
           }
          ],
          "carpet": [
           {
            "aaxis": {
             "endlinecolor": "#2a3f5f",
             "gridcolor": "white",
             "linecolor": "white",
             "minorgridcolor": "white",
             "startlinecolor": "#2a3f5f"
            },
            "baxis": {
             "endlinecolor": "#2a3f5f",
             "gridcolor": "white",
             "linecolor": "white",
             "minorgridcolor": "white",
             "startlinecolor": "#2a3f5f"
            },
            "type": "carpet"
           }
          ],
          "choropleth": [
           {
            "colorbar": {
             "outlinewidth": 0,
             "ticks": ""
            },
            "type": "choropleth"
           }
          ],
          "contour": [
           {
            "colorbar": {
             "outlinewidth": 0,
             "ticks": ""
            },
            "colorscale": [
             [
              0,
              "#0d0887"
             ],
             [
              0.1111111111111111,
              "#46039f"
             ],
             [
              0.2222222222222222,
              "#7201a8"
             ],
             [
              0.3333333333333333,
              "#9c179e"
             ],
             [
              0.4444444444444444,
              "#bd3786"
             ],
             [
              0.5555555555555556,
              "#d8576b"
             ],
             [
              0.6666666666666666,
              "#ed7953"
             ],
             [
              0.7777777777777778,
              "#fb9f3a"
             ],
             [
              0.8888888888888888,
              "#fdca26"
             ],
             [
              1,
              "#f0f921"
             ]
            ],
            "type": "contour"
           }
          ],
          "contourcarpet": [
           {
            "colorbar": {
             "outlinewidth": 0,
             "ticks": ""
            },
            "type": "contourcarpet"
           }
          ],
          "heatmap": [
           {
            "colorbar": {
             "outlinewidth": 0,
             "ticks": ""
            },
            "colorscale": [
             [
              0,
              "#0d0887"
             ],
             [
              0.1111111111111111,
              "#46039f"
             ],
             [
              0.2222222222222222,
              "#7201a8"
             ],
             [
              0.3333333333333333,
              "#9c179e"
             ],
             [
              0.4444444444444444,
              "#bd3786"
             ],
             [
              0.5555555555555556,
              "#d8576b"
             ],
             [
              0.6666666666666666,
              "#ed7953"
             ],
             [
              0.7777777777777778,
              "#fb9f3a"
             ],
             [
              0.8888888888888888,
              "#fdca26"
             ],
             [
              1,
              "#f0f921"
             ]
            ],
            "type": "heatmap"
           }
          ],
          "heatmapgl": [
           {
            "colorbar": {
             "outlinewidth": 0,
             "ticks": ""
            },
            "colorscale": [
             [
              0,
              "#0d0887"
             ],
             [
              0.1111111111111111,
              "#46039f"
             ],
             [
              0.2222222222222222,
              "#7201a8"
             ],
             [
              0.3333333333333333,
              "#9c179e"
             ],
             [
              0.4444444444444444,
              "#bd3786"
             ],
             [
              0.5555555555555556,
              "#d8576b"
             ],
             [
              0.6666666666666666,
              "#ed7953"
             ],
             [
              0.7777777777777778,
              "#fb9f3a"
             ],
             [
              0.8888888888888888,
              "#fdca26"
             ],
             [
              1,
              "#f0f921"
             ]
            ],
            "type": "heatmapgl"
           }
          ],
          "histogram": [
           {
            "marker": {
             "pattern": {
              "fillmode": "overlay",
              "size": 10,
              "solidity": 0.2
             }
            },
            "type": "histogram"
           }
          ],
          "histogram2d": [
           {
            "colorbar": {
             "outlinewidth": 0,
             "ticks": ""
            },
            "colorscale": [
             [
              0,
              "#0d0887"
             ],
             [
              0.1111111111111111,
              "#46039f"
             ],
             [
              0.2222222222222222,
              "#7201a8"
             ],
             [
              0.3333333333333333,
              "#9c179e"
             ],
             [
              0.4444444444444444,
              "#bd3786"
             ],
             [
              0.5555555555555556,
              "#d8576b"
             ],
             [
              0.6666666666666666,
              "#ed7953"
             ],
             [
              0.7777777777777778,
              "#fb9f3a"
             ],
             [
              0.8888888888888888,
              "#fdca26"
             ],
             [
              1,
              "#f0f921"
             ]
            ],
            "type": "histogram2d"
           }
          ],
          "histogram2dcontour": [
           {
            "colorbar": {
             "outlinewidth": 0,
             "ticks": ""
            },
            "colorscale": [
             [
              0,
              "#0d0887"
             ],
             [
              0.1111111111111111,
              "#46039f"
             ],
             [
              0.2222222222222222,
              "#7201a8"
             ],
             [
              0.3333333333333333,
              "#9c179e"
             ],
             [
              0.4444444444444444,
              "#bd3786"
             ],
             [
              0.5555555555555556,
              "#d8576b"
             ],
             [
              0.6666666666666666,
              "#ed7953"
             ],
             [
              0.7777777777777778,
              "#fb9f3a"
             ],
             [
              0.8888888888888888,
              "#fdca26"
             ],
             [
              1,
              "#f0f921"
             ]
            ],
            "type": "histogram2dcontour"
           }
          ],
          "mesh3d": [
           {
            "colorbar": {
             "outlinewidth": 0,
             "ticks": ""
            },
            "type": "mesh3d"
           }
          ],
          "parcoords": [
           {
            "line": {
             "colorbar": {
              "outlinewidth": 0,
              "ticks": ""
             }
            },
            "type": "parcoords"
           }
          ],
          "pie": [
           {
            "automargin": true,
            "type": "pie"
           }
          ],
          "scatter": [
           {
            "fillpattern": {
             "fillmode": "overlay",
             "size": 10,
             "solidity": 0.2
            },
            "type": "scatter"
           }
          ],
          "scatter3d": [
           {
            "line": {
             "colorbar": {
              "outlinewidth": 0,
              "ticks": ""
             }
            },
            "marker": {
             "colorbar": {
              "outlinewidth": 0,
              "ticks": ""
             }
            },
            "type": "scatter3d"
           }
          ],
          "scattercarpet": [
           {
            "marker": {
             "colorbar": {
              "outlinewidth": 0,
              "ticks": ""
             }
            },
            "type": "scattercarpet"
           }
          ],
          "scattergeo": [
           {
            "marker": {
             "colorbar": {
              "outlinewidth": 0,
              "ticks": ""
             }
            },
            "type": "scattergeo"
           }
          ],
          "scattergl": [
           {
            "marker": {
             "colorbar": {
              "outlinewidth": 0,
              "ticks": ""
             }
            },
            "type": "scattergl"
           }
          ],
          "scattermapbox": [
           {
            "marker": {
             "colorbar": {
              "outlinewidth": 0,
              "ticks": ""
             }
            },
            "type": "scattermapbox"
           }
          ],
          "scatterpolar": [
           {
            "marker": {
             "colorbar": {
              "outlinewidth": 0,
              "ticks": ""
             }
            },
            "type": "scatterpolar"
           }
          ],
          "scatterpolargl": [
           {
            "marker": {
             "colorbar": {
              "outlinewidth": 0,
              "ticks": ""
             }
            },
            "type": "scatterpolargl"
           }
          ],
          "scatterternary": [
           {
            "marker": {
             "colorbar": {
              "outlinewidth": 0,
              "ticks": ""
             }
            },
            "type": "scatterternary"
           }
          ],
          "surface": [
           {
            "colorbar": {
             "outlinewidth": 0,
             "ticks": ""
            },
            "colorscale": [
             [
              0,
              "#0d0887"
             ],
             [
              0.1111111111111111,
              "#46039f"
             ],
             [
              0.2222222222222222,
              "#7201a8"
             ],
             [
              0.3333333333333333,
              "#9c179e"
             ],
             [
              0.4444444444444444,
              "#bd3786"
             ],
             [
              0.5555555555555556,
              "#d8576b"
             ],
             [
              0.6666666666666666,
              "#ed7953"
             ],
             [
              0.7777777777777778,
              "#fb9f3a"
             ],
             [
              0.8888888888888888,
              "#fdca26"
             ],
             [
              1,
              "#f0f921"
             ]
            ],
            "type": "surface"
           }
          ],
          "table": [
           {
            "cells": {
             "fill": {
              "color": "#EBF0F8"
             },
             "line": {
              "color": "white"
             }
            },
            "header": {
             "fill": {
              "color": "#C8D4E3"
             },
             "line": {
              "color": "white"
             }
            },
            "type": "table"
           }
          ]
         },
         "layout": {
          "annotationdefaults": {
           "arrowcolor": "#2a3f5f",
           "arrowhead": 0,
           "arrowwidth": 1
          },
          "autotypenumbers": "strict",
          "coloraxis": {
           "colorbar": {
            "outlinewidth": 0,
            "ticks": ""
           }
          },
          "colorscale": {
           "diverging": [
            [
             0,
             "#8e0152"
            ],
            [
             0.1,
             "#c51b7d"
            ],
            [
             0.2,
             "#de77ae"
            ],
            [
             0.3,
             "#f1b6da"
            ],
            [
             0.4,
             "#fde0ef"
            ],
            [
             0.5,
             "#f7f7f7"
            ],
            [
             0.6,
             "#e6f5d0"
            ],
            [
             0.7,
             "#b8e186"
            ],
            [
             0.8,
             "#7fbc41"
            ],
            [
             0.9,
             "#4d9221"
            ],
            [
             1,
             "#276419"
            ]
           ],
           "sequential": [
            [
             0,
             "#0d0887"
            ],
            [
             0.1111111111111111,
             "#46039f"
            ],
            [
             0.2222222222222222,
             "#7201a8"
            ],
            [
             0.3333333333333333,
             "#9c179e"
            ],
            [
             0.4444444444444444,
             "#bd3786"
            ],
            [
             0.5555555555555556,
             "#d8576b"
            ],
            [
             0.6666666666666666,
             "#ed7953"
            ],
            [
             0.7777777777777778,
             "#fb9f3a"
            ],
            [
             0.8888888888888888,
             "#fdca26"
            ],
            [
             1,
             "#f0f921"
            ]
           ],
           "sequentialminus": [
            [
             0,
             "#0d0887"
            ],
            [
             0.1111111111111111,
             "#46039f"
            ],
            [
             0.2222222222222222,
             "#7201a8"
            ],
            [
             0.3333333333333333,
             "#9c179e"
            ],
            [
             0.4444444444444444,
             "#bd3786"
            ],
            [
             0.5555555555555556,
             "#d8576b"
            ],
            [
             0.6666666666666666,
             "#ed7953"
            ],
            [
             0.7777777777777778,
             "#fb9f3a"
            ],
            [
             0.8888888888888888,
             "#fdca26"
            ],
            [
             1,
             "#f0f921"
            ]
           ]
          },
          "colorway": [
           "#636efa",
           "#EF553B",
           "#00cc96",
           "#ab63fa",
           "#FFA15A",
           "#19d3f3",
           "#FF6692",
           "#B6E880",
           "#FF97FF",
           "#FECB52"
          ],
          "font": {
           "color": "#2a3f5f"
          },
          "geo": {
           "bgcolor": "white",
           "lakecolor": "white",
           "landcolor": "#E5ECF6",
           "showlakes": true,
           "showland": true,
           "subunitcolor": "white"
          },
          "hoverlabel": {
           "align": "left"
          },
          "hovermode": "closest",
          "mapbox": {
           "style": "light"
          },
          "paper_bgcolor": "white",
          "plot_bgcolor": "#E5ECF6",
          "polar": {
           "angularaxis": {
            "gridcolor": "white",
            "linecolor": "white",
            "ticks": ""
           },
           "bgcolor": "#E5ECF6",
           "radialaxis": {
            "gridcolor": "white",
            "linecolor": "white",
            "ticks": ""
           }
          },
          "scene": {
           "xaxis": {
            "backgroundcolor": "#E5ECF6",
            "gridcolor": "white",
            "gridwidth": 2,
            "linecolor": "white",
            "showbackground": true,
            "ticks": "",
            "zerolinecolor": "white"
           },
           "yaxis": {
            "backgroundcolor": "#E5ECF6",
            "gridcolor": "white",
            "gridwidth": 2,
            "linecolor": "white",
            "showbackground": true,
            "ticks": "",
            "zerolinecolor": "white"
           },
           "zaxis": {
            "backgroundcolor": "#E5ECF6",
            "gridcolor": "white",
            "gridwidth": 2,
            "linecolor": "white",
            "showbackground": true,
            "ticks": "",
            "zerolinecolor": "white"
           }
          },
          "shapedefaults": {
           "line": {
            "color": "#2a3f5f"
           }
          },
          "ternary": {
           "aaxis": {
            "gridcolor": "white",
            "linecolor": "white",
            "ticks": ""
           },
           "baxis": {
            "gridcolor": "white",
            "linecolor": "white",
            "ticks": ""
           },
           "bgcolor": "#E5ECF6",
           "caxis": {
            "gridcolor": "white",
            "linecolor": "white",
            "ticks": ""
           }
          },
          "title": {
           "x": 0.05
          },
          "xaxis": {
           "automargin": true,
           "gridcolor": "white",
           "linecolor": "white",
           "ticks": "",
           "title": {
            "standoff": 15
           },
           "zerolinecolor": "white",
           "zerolinewidth": 2
          },
          "yaxis": {
           "automargin": true,
           "gridcolor": "white",
           "linecolor": "white",
           "ticks": "",
           "title": {
            "standoff": 15
           },
           "zerolinecolor": "white",
           "zerolinewidth": 2
          }
         }
        },
        "title": {
         "text": "More points in season 2021-2022"
        },
        "xaxis": {
         "anchor": "y",
         "domain": [
          0,
          1
         ],
         "title": {
          "text": "Player"
         }
        },
        "yaxis": {
         "anchor": "x",
         "domain": [
          0,
          1
         ],
         "title": {
          "text": "PTS"
         }
        }
       }
      }
     },
     "metadata": {},
     "output_type": "display_data"
    }
   ],
   "source": [
    "fig = px.bar(top10_pts, x = 'Player', y = 'PTS', text='PTS', title='More points in season 2021-2022')\n",
    "fig.update_traces(textposition = 'outside', cliponaxis = False)\n",
    "fig.show()"
   ]
  },
  {
   "cell_type": "markdown",
   "metadata": {},
   "source": [
    "## 2 - Considerando o top 5% pontuadores da liga, quais são os que possuem maior aproveitamento nos arremessos de quadra"
   ]
  },
  {
   "cell_type": "code",
   "execution_count": 16,
   "metadata": {},
   "outputs": [
    {
     "data": {
      "text/html": [
       "<div>\n",
       "<style scoped>\n",
       "    .dataframe tbody tr th:only-of-type {\n",
       "        vertical-align: middle;\n",
       "    }\n",
       "\n",
       "    .dataframe tbody tr th {\n",
       "        vertical-align: top;\n",
       "    }\n",
       "\n",
       "    .dataframe thead th {\n",
       "        text-align: right;\n",
       "    }\n",
       "</style>\n",
       "<table border=\"1\" class=\"dataframe\">\n",
       "  <thead>\n",
       "    <tr style=\"text-align: right;\">\n",
       "      <th></th>\n",
       "      <th>Player</th>\n",
       "      <th>FG</th>\n",
       "      <th>FGA</th>\n",
       "      <th>FG%</th>\n",
       "      <th>2P</th>\n",
       "      <th>2PA</th>\n",
       "      <th>3P</th>\n",
       "      <th>3PA</th>\n",
       "      <th>eFG%</th>\n",
       "      <th>FT</th>\n",
       "      <th>FTA</th>\n",
       "      <th>FT%</th>\n",
       "      <th>PTS</th>\n",
       "    </tr>\n",
       "  </thead>\n",
       "  <tbody>\n",
       "    <tr>\n",
       "      <th>0</th>\n",
       "      <td>Nikola Jokić</td>\n",
       "      <td>764</td>\n",
       "      <td>1311</td>\n",
       "      <td>0.58</td>\n",
       "      <td>667</td>\n",
       "      <td>1023</td>\n",
       "      <td>97</td>\n",
       "      <td>288</td>\n",
       "      <td>0.62</td>\n",
       "      <td>379</td>\n",
       "      <td>468</td>\n",
       "      <td>0.81</td>\n",
       "      <td>2004</td>\n",
       "    </tr>\n",
       "    <tr>\n",
       "      <th>1</th>\n",
       "      <td>Karl-Anthony Towns</td>\n",
       "      <td>642</td>\n",
       "      <td>1214</td>\n",
       "      <td>0.53</td>\n",
       "      <td>492</td>\n",
       "      <td>848</td>\n",
       "      <td>150</td>\n",
       "      <td>366</td>\n",
       "      <td>0.59</td>\n",
       "      <td>384</td>\n",
       "      <td>467</td>\n",
       "      <td>0.82</td>\n",
       "      <td>1818</td>\n",
       "    </tr>\n",
       "    <tr>\n",
       "      <th>2</th>\n",
       "      <td>LeBron James</td>\n",
       "      <td>640</td>\n",
       "      <td>1221</td>\n",
       "      <td>0.52</td>\n",
       "      <td>479</td>\n",
       "      <td>773</td>\n",
       "      <td>161</td>\n",
       "      <td>448</td>\n",
       "      <td>0.59</td>\n",
       "      <td>254</td>\n",
       "      <td>336</td>\n",
       "      <td>0.76</td>\n",
       "      <td>1695</td>\n",
       "    </tr>\n",
       "    <tr>\n",
       "      <th>3</th>\n",
       "      <td>Giannis Antetokounmpo</td>\n",
       "      <td>689</td>\n",
       "      <td>1245</td>\n",
       "      <td>0.55</td>\n",
       "      <td>618</td>\n",
       "      <td>1003</td>\n",
       "      <td>71</td>\n",
       "      <td>242</td>\n",
       "      <td>0.58</td>\n",
       "      <td>553</td>\n",
       "      <td>766</td>\n",
       "      <td>0.72</td>\n",
       "      <td>2002</td>\n",
       "    </tr>\n",
       "    <tr>\n",
       "      <th>4</th>\n",
       "      <td>Kevin Durant</td>\n",
       "      <td>578</td>\n",
       "      <td>1115</td>\n",
       "      <td>0.52</td>\n",
       "      <td>463</td>\n",
       "      <td>815</td>\n",
       "      <td>115</td>\n",
       "      <td>300</td>\n",
       "      <td>0.57</td>\n",
       "      <td>372</td>\n",
       "      <td>409</td>\n",
       "      <td>0.91</td>\n",
       "      <td>1643</td>\n",
       "    </tr>\n",
       "    <tr>\n",
       "      <th>5</th>\n",
       "      <td>Desmond Bane</td>\n",
       "      <td>508</td>\n",
       "      <td>1101</td>\n",
       "      <td>0.46</td>\n",
       "      <td>280</td>\n",
       "      <td>578</td>\n",
       "      <td>228</td>\n",
       "      <td>523</td>\n",
       "      <td>0.56</td>\n",
       "      <td>140</td>\n",
       "      <td>155</td>\n",
       "      <td>0.90</td>\n",
       "      <td>1384</td>\n",
       "    </tr>\n",
       "    <tr>\n",
       "      <th>6</th>\n",
       "      <td>Zach LaVine</td>\n",
       "      <td>565</td>\n",
       "      <td>1186</td>\n",
       "      <td>0.48</td>\n",
       "      <td>380</td>\n",
       "      <td>711</td>\n",
       "      <td>185</td>\n",
       "      <td>475</td>\n",
       "      <td>0.55</td>\n",
       "      <td>320</td>\n",
       "      <td>375</td>\n",
       "      <td>0.85</td>\n",
       "      <td>1635</td>\n",
       "    </tr>\n",
       "    <tr>\n",
       "      <th>7</th>\n",
       "      <td>Miles Bridges</td>\n",
       "      <td>596</td>\n",
       "      <td>1214</td>\n",
       "      <td>0.49</td>\n",
       "      <td>442</td>\n",
       "      <td>749</td>\n",
       "      <td>154</td>\n",
       "      <td>465</td>\n",
       "      <td>0.55</td>\n",
       "      <td>267</td>\n",
       "      <td>333</td>\n",
       "      <td>0.80</td>\n",
       "      <td>1613</td>\n",
       "    </tr>\n",
       "    <tr>\n",
       "      <th>8</th>\n",
       "      <td>Stephen Curry</td>\n",
       "      <td>535</td>\n",
       "      <td>1224</td>\n",
       "      <td>0.44</td>\n",
       "      <td>250</td>\n",
       "      <td>474</td>\n",
       "      <td>285</td>\n",
       "      <td>750</td>\n",
       "      <td>0.55</td>\n",
       "      <td>275</td>\n",
       "      <td>298</td>\n",
       "      <td>0.92</td>\n",
       "      <td>1630</td>\n",
       "    </tr>\n",
       "    <tr>\n",
       "      <th>9</th>\n",
       "      <td>Jordan Poole</td>\n",
       "      <td>474</td>\n",
       "      <td>1058</td>\n",
       "      <td>0.45</td>\n",
       "      <td>263</td>\n",
       "      <td>478</td>\n",
       "      <td>211</td>\n",
       "      <td>580</td>\n",
       "      <td>0.55</td>\n",
       "      <td>246</td>\n",
       "      <td>266</td>\n",
       "      <td>0.92</td>\n",
       "      <td>1405</td>\n",
       "    </tr>\n",
       "  </tbody>\n",
       "</table>\n",
       "</div>"
      ],
      "text/plain": [
       "                  Player   FG   FGA  FG%   2P   2PA   3P  3PA  eFG%   FT  FTA  \\\n",
       "0           Nikola Jokić  764  1311 0.58  667  1023   97  288  0.62  379  468   \n",
       "1     Karl-Anthony Towns  642  1214 0.53  492   848  150  366  0.59  384  467   \n",
       "2           LeBron James  640  1221 0.52  479   773  161  448  0.59  254  336   \n",
       "3  Giannis Antetokounmpo  689  1245 0.55  618  1003   71  242  0.58  553  766   \n",
       "4           Kevin Durant  578  1115 0.52  463   815  115  300  0.57  372  409   \n",
       "5           Desmond Bane  508  1101 0.46  280   578  228  523  0.56  140  155   \n",
       "6            Zach LaVine  565  1186 0.48  380   711  185  475  0.55  320  375   \n",
       "7          Miles Bridges  596  1214 0.49  442   749  154  465  0.55  267  333   \n",
       "8          Stephen Curry  535  1224 0.44  250   474  285  750  0.55  275  298   \n",
       "9           Jordan Poole  474  1058 0.45  263   478  211  580  0.55  246  266   \n",
       "\n",
       "   FT%   PTS  \n",
       "0 0.81  2004  \n",
       "1 0.82  1818  \n",
       "2 0.76  1695  \n",
       "3 0.72  2002  \n",
       "4 0.91  1643  \n",
       "5 0.90  1384  \n",
       "6 0.85  1635  \n",
       "7 0.80  1613  \n",
       "8 0.92  1630  \n",
       "9 0.92  1405  "
      ]
     },
     "execution_count": 16,
     "metadata": {},
     "output_type": "execute_result"
    }
   ],
   "source": [
    "df_player.loc[df_player['PTS'] > df_player['PTS'].quantile(q=0.95), ['Player', 'FG', 'FGA', 'FG%', '2P', '2PA', '3P', '3PA', 'eFG%', 'FT', 'FTA', 'FT%', 'PTS']].sort_values('eFG%', ascending=False).reset_index(drop = True).head(10)"
   ]
  },
  {
   "cell_type": "code",
   "execution_count": 17,
   "metadata": {},
   "outputs": [
    {
     "data": {
      "application/vnd.plotly.v1+json": {
       "config": {
        "plotlyServerURL": "https://plot.ly"
       },
       "data": [
        {
         "alignmentgroup": "True",
         "hovertemplate": "Player=%{x}<br>FG%=%{y}<extra></extra>",
         "legendgroup": "",
         "marker": {
          "color": "#636efa",
          "pattern": {
           "shape": ""
          }
         },
         "name": "",
         "offsetgroup": "",
         "orientation": "v",
         "showlegend": false,
         "textposition": "auto",
         "texttemplate": "%{y}",
         "type": "bar",
         "x": [
          "Nikola Jokić",
          "Giannis Antetokounmpo",
          "Karl-Anthony Towns",
          "LeBron James",
          "Kevin Durant",
          "DeMar DeRozan",
          "Joel Embiid",
          "Pascal Siakam",
          "Ja Morant",
          "Miles Bridges"
         ],
         "xaxis": "x",
         "y": [
          0.5827612509534706,
          0.5534136546184739,
          0.528830313014827,
          0.5241605241605242,
          0.5183856502242152,
          0.5042345276872964,
          0.4992503748125937,
          0.49378624689312345,
          0.4927782497875956,
          0.49093904448105435
         ],
         "yaxis": "y"
        }
       ],
       "layout": {
        "barmode": "relative",
        "legend": {
         "tracegroupgap": 0
        },
        "margin": {
         "t": 60
        },
        "template": {
         "data": {
          "bar": [
           {
            "error_x": {
             "color": "#2a3f5f"
            },
            "error_y": {
             "color": "#2a3f5f"
            },
            "marker": {
             "line": {
              "color": "#E5ECF6",
              "width": 0.5
             },
             "pattern": {
              "fillmode": "overlay",
              "size": 10,
              "solidity": 0.2
             }
            },
            "type": "bar"
           }
          ],
          "barpolar": [
           {
            "marker": {
             "line": {
              "color": "#E5ECF6",
              "width": 0.5
             },
             "pattern": {
              "fillmode": "overlay",
              "size": 10,
              "solidity": 0.2
             }
            },
            "type": "barpolar"
           }
          ],
          "carpet": [
           {
            "aaxis": {
             "endlinecolor": "#2a3f5f",
             "gridcolor": "white",
             "linecolor": "white",
             "minorgridcolor": "white",
             "startlinecolor": "#2a3f5f"
            },
            "baxis": {
             "endlinecolor": "#2a3f5f",
             "gridcolor": "white",
             "linecolor": "white",
             "minorgridcolor": "white",
             "startlinecolor": "#2a3f5f"
            },
            "type": "carpet"
           }
          ],
          "choropleth": [
           {
            "colorbar": {
             "outlinewidth": 0,
             "ticks": ""
            },
            "type": "choropleth"
           }
          ],
          "contour": [
           {
            "colorbar": {
             "outlinewidth": 0,
             "ticks": ""
            },
            "colorscale": [
             [
              0,
              "#0d0887"
             ],
             [
              0.1111111111111111,
              "#46039f"
             ],
             [
              0.2222222222222222,
              "#7201a8"
             ],
             [
              0.3333333333333333,
              "#9c179e"
             ],
             [
              0.4444444444444444,
              "#bd3786"
             ],
             [
              0.5555555555555556,
              "#d8576b"
             ],
             [
              0.6666666666666666,
              "#ed7953"
             ],
             [
              0.7777777777777778,
              "#fb9f3a"
             ],
             [
              0.8888888888888888,
              "#fdca26"
             ],
             [
              1,
              "#f0f921"
             ]
            ],
            "type": "contour"
           }
          ],
          "contourcarpet": [
           {
            "colorbar": {
             "outlinewidth": 0,
             "ticks": ""
            },
            "type": "contourcarpet"
           }
          ],
          "heatmap": [
           {
            "colorbar": {
             "outlinewidth": 0,
             "ticks": ""
            },
            "colorscale": [
             [
              0,
              "#0d0887"
             ],
             [
              0.1111111111111111,
              "#46039f"
             ],
             [
              0.2222222222222222,
              "#7201a8"
             ],
             [
              0.3333333333333333,
              "#9c179e"
             ],
             [
              0.4444444444444444,
              "#bd3786"
             ],
             [
              0.5555555555555556,
              "#d8576b"
             ],
             [
              0.6666666666666666,
              "#ed7953"
             ],
             [
              0.7777777777777778,
              "#fb9f3a"
             ],
             [
              0.8888888888888888,
              "#fdca26"
             ],
             [
              1,
              "#f0f921"
             ]
            ],
            "type": "heatmap"
           }
          ],
          "heatmapgl": [
           {
            "colorbar": {
             "outlinewidth": 0,
             "ticks": ""
            },
            "colorscale": [
             [
              0,
              "#0d0887"
             ],
             [
              0.1111111111111111,
              "#46039f"
             ],
             [
              0.2222222222222222,
              "#7201a8"
             ],
             [
              0.3333333333333333,
              "#9c179e"
             ],
             [
              0.4444444444444444,
              "#bd3786"
             ],
             [
              0.5555555555555556,
              "#d8576b"
             ],
             [
              0.6666666666666666,
              "#ed7953"
             ],
             [
              0.7777777777777778,
              "#fb9f3a"
             ],
             [
              0.8888888888888888,
              "#fdca26"
             ],
             [
              1,
              "#f0f921"
             ]
            ],
            "type": "heatmapgl"
           }
          ],
          "histogram": [
           {
            "marker": {
             "pattern": {
              "fillmode": "overlay",
              "size": 10,
              "solidity": 0.2
             }
            },
            "type": "histogram"
           }
          ],
          "histogram2d": [
           {
            "colorbar": {
             "outlinewidth": 0,
             "ticks": ""
            },
            "colorscale": [
             [
              0,
              "#0d0887"
             ],
             [
              0.1111111111111111,
              "#46039f"
             ],
             [
              0.2222222222222222,
              "#7201a8"
             ],
             [
              0.3333333333333333,
              "#9c179e"
             ],
             [
              0.4444444444444444,
              "#bd3786"
             ],
             [
              0.5555555555555556,
              "#d8576b"
             ],
             [
              0.6666666666666666,
              "#ed7953"
             ],
             [
              0.7777777777777778,
              "#fb9f3a"
             ],
             [
              0.8888888888888888,
              "#fdca26"
             ],
             [
              1,
              "#f0f921"
             ]
            ],
            "type": "histogram2d"
           }
          ],
          "histogram2dcontour": [
           {
            "colorbar": {
             "outlinewidth": 0,
             "ticks": ""
            },
            "colorscale": [
             [
              0,
              "#0d0887"
             ],
             [
              0.1111111111111111,
              "#46039f"
             ],
             [
              0.2222222222222222,
              "#7201a8"
             ],
             [
              0.3333333333333333,
              "#9c179e"
             ],
             [
              0.4444444444444444,
              "#bd3786"
             ],
             [
              0.5555555555555556,
              "#d8576b"
             ],
             [
              0.6666666666666666,
              "#ed7953"
             ],
             [
              0.7777777777777778,
              "#fb9f3a"
             ],
             [
              0.8888888888888888,
              "#fdca26"
             ],
             [
              1,
              "#f0f921"
             ]
            ],
            "type": "histogram2dcontour"
           }
          ],
          "mesh3d": [
           {
            "colorbar": {
             "outlinewidth": 0,
             "ticks": ""
            },
            "type": "mesh3d"
           }
          ],
          "parcoords": [
           {
            "line": {
             "colorbar": {
              "outlinewidth": 0,
              "ticks": ""
             }
            },
            "type": "parcoords"
           }
          ],
          "pie": [
           {
            "automargin": true,
            "type": "pie"
           }
          ],
          "scatter": [
           {
            "fillpattern": {
             "fillmode": "overlay",
             "size": 10,
             "solidity": 0.2
            },
            "type": "scatter"
           }
          ],
          "scatter3d": [
           {
            "line": {
             "colorbar": {
              "outlinewidth": 0,
              "ticks": ""
             }
            },
            "marker": {
             "colorbar": {
              "outlinewidth": 0,
              "ticks": ""
             }
            },
            "type": "scatter3d"
           }
          ],
          "scattercarpet": [
           {
            "marker": {
             "colorbar": {
              "outlinewidth": 0,
              "ticks": ""
             }
            },
            "type": "scattercarpet"
           }
          ],
          "scattergeo": [
           {
            "marker": {
             "colorbar": {
              "outlinewidth": 0,
              "ticks": ""
             }
            },
            "type": "scattergeo"
           }
          ],
          "scattergl": [
           {
            "marker": {
             "colorbar": {
              "outlinewidth": 0,
              "ticks": ""
             }
            },
            "type": "scattergl"
           }
          ],
          "scattermapbox": [
           {
            "marker": {
             "colorbar": {
              "outlinewidth": 0,
              "ticks": ""
             }
            },
            "type": "scattermapbox"
           }
          ],
          "scatterpolar": [
           {
            "marker": {
             "colorbar": {
              "outlinewidth": 0,
              "ticks": ""
             }
            },
            "type": "scatterpolar"
           }
          ],
          "scatterpolargl": [
           {
            "marker": {
             "colorbar": {
              "outlinewidth": 0,
              "ticks": ""
             }
            },
            "type": "scatterpolargl"
           }
          ],
          "scatterternary": [
           {
            "marker": {
             "colorbar": {
              "outlinewidth": 0,
              "ticks": ""
             }
            },
            "type": "scatterternary"
           }
          ],
          "surface": [
           {
            "colorbar": {
             "outlinewidth": 0,
             "ticks": ""
            },
            "colorscale": [
             [
              0,
              "#0d0887"
             ],
             [
              0.1111111111111111,
              "#46039f"
             ],
             [
              0.2222222222222222,
              "#7201a8"
             ],
             [
              0.3333333333333333,
              "#9c179e"
             ],
             [
              0.4444444444444444,
              "#bd3786"
             ],
             [
              0.5555555555555556,
              "#d8576b"
             ],
             [
              0.6666666666666666,
              "#ed7953"
             ],
             [
              0.7777777777777778,
              "#fb9f3a"
             ],
             [
              0.8888888888888888,
              "#fdca26"
             ],
             [
              1,
              "#f0f921"
             ]
            ],
            "type": "surface"
           }
          ],
          "table": [
           {
            "cells": {
             "fill": {
              "color": "#EBF0F8"
             },
             "line": {
              "color": "white"
             }
            },
            "header": {
             "fill": {
              "color": "#C8D4E3"
             },
             "line": {
              "color": "white"
             }
            },
            "type": "table"
           }
          ]
         },
         "layout": {
          "annotationdefaults": {
           "arrowcolor": "#2a3f5f",
           "arrowhead": 0,
           "arrowwidth": 1
          },
          "autotypenumbers": "strict",
          "coloraxis": {
           "colorbar": {
            "outlinewidth": 0,
            "ticks": ""
           }
          },
          "colorscale": {
           "diverging": [
            [
             0,
             "#8e0152"
            ],
            [
             0.1,
             "#c51b7d"
            ],
            [
             0.2,
             "#de77ae"
            ],
            [
             0.3,
             "#f1b6da"
            ],
            [
             0.4,
             "#fde0ef"
            ],
            [
             0.5,
             "#f7f7f7"
            ],
            [
             0.6,
             "#e6f5d0"
            ],
            [
             0.7,
             "#b8e186"
            ],
            [
             0.8,
             "#7fbc41"
            ],
            [
             0.9,
             "#4d9221"
            ],
            [
             1,
             "#276419"
            ]
           ],
           "sequential": [
            [
             0,
             "#0d0887"
            ],
            [
             0.1111111111111111,
             "#46039f"
            ],
            [
             0.2222222222222222,
             "#7201a8"
            ],
            [
             0.3333333333333333,
             "#9c179e"
            ],
            [
             0.4444444444444444,
             "#bd3786"
            ],
            [
             0.5555555555555556,
             "#d8576b"
            ],
            [
             0.6666666666666666,
             "#ed7953"
            ],
            [
             0.7777777777777778,
             "#fb9f3a"
            ],
            [
             0.8888888888888888,
             "#fdca26"
            ],
            [
             1,
             "#f0f921"
            ]
           ],
           "sequentialminus": [
            [
             0,
             "#0d0887"
            ],
            [
             0.1111111111111111,
             "#46039f"
            ],
            [
             0.2222222222222222,
             "#7201a8"
            ],
            [
             0.3333333333333333,
             "#9c179e"
            ],
            [
             0.4444444444444444,
             "#bd3786"
            ],
            [
             0.5555555555555556,
             "#d8576b"
            ],
            [
             0.6666666666666666,
             "#ed7953"
            ],
            [
             0.7777777777777778,
             "#fb9f3a"
            ],
            [
             0.8888888888888888,
             "#fdca26"
            ],
            [
             1,
             "#f0f921"
            ]
           ]
          },
          "colorway": [
           "#636efa",
           "#EF553B",
           "#00cc96",
           "#ab63fa",
           "#FFA15A",
           "#19d3f3",
           "#FF6692",
           "#B6E880",
           "#FF97FF",
           "#FECB52"
          ],
          "font": {
           "color": "#2a3f5f"
          },
          "geo": {
           "bgcolor": "white",
           "lakecolor": "white",
           "landcolor": "#E5ECF6",
           "showlakes": true,
           "showland": true,
           "subunitcolor": "white"
          },
          "hoverlabel": {
           "align": "left"
          },
          "hovermode": "closest",
          "mapbox": {
           "style": "light"
          },
          "paper_bgcolor": "white",
          "plot_bgcolor": "#E5ECF6",
          "polar": {
           "angularaxis": {
            "gridcolor": "white",
            "linecolor": "white",
            "ticks": ""
           },
           "bgcolor": "#E5ECF6",
           "radialaxis": {
            "gridcolor": "white",
            "linecolor": "white",
            "ticks": ""
           }
          },
          "scene": {
           "xaxis": {
            "backgroundcolor": "#E5ECF6",
            "gridcolor": "white",
            "gridwidth": 2,
            "linecolor": "white",
            "showbackground": true,
            "ticks": "",
            "zerolinecolor": "white"
           },
           "yaxis": {
            "backgroundcolor": "#E5ECF6",
            "gridcolor": "white",
            "gridwidth": 2,
            "linecolor": "white",
            "showbackground": true,
            "ticks": "",
            "zerolinecolor": "white"
           },
           "zaxis": {
            "backgroundcolor": "#E5ECF6",
            "gridcolor": "white",
            "gridwidth": 2,
            "linecolor": "white",
            "showbackground": true,
            "ticks": "",
            "zerolinecolor": "white"
           }
          },
          "shapedefaults": {
           "line": {
            "color": "#2a3f5f"
           }
          },
          "ternary": {
           "aaxis": {
            "gridcolor": "white",
            "linecolor": "white",
            "ticks": ""
           },
           "baxis": {
            "gridcolor": "white",
            "linecolor": "white",
            "ticks": ""
           },
           "bgcolor": "#E5ECF6",
           "caxis": {
            "gridcolor": "white",
            "linecolor": "white",
            "ticks": ""
           }
          },
          "title": {
           "x": 0.05
          },
          "xaxis": {
           "automargin": true,
           "gridcolor": "white",
           "linecolor": "white",
           "ticks": "",
           "title": {
            "standoff": 15
           },
           "zerolinecolor": "white",
           "zerolinewidth": 2
          },
          "yaxis": {
           "automargin": true,
           "gridcolor": "white",
           "linecolor": "white",
           "ticks": "",
           "title": {
            "standoff": 15
           },
           "zerolinecolor": "white",
           "zerolinewidth": 2
          }
         }
        },
        "xaxis": {
         "anchor": "y",
         "domain": [
          0,
          1
         ],
         "title": {
          "text": "Player"
         }
        },
        "yaxis": {
         "anchor": "x",
         "domain": [
          0,
          1
         ],
         "title": {
          "text": "FG%"
         }
        }
       }
      }
     },
     "metadata": {},
     "output_type": "display_data"
    }
   ],
   "source": [
    "fg_percent = df_player.loc[df_player['PTS'] > df_player['PTS'].quantile(q=0.95), ['Player', 'FG', 'FGA', 'FG%', '2P', '2PA', '3P', '3PA', 'eFG%', 'FT', 'FTA', 'FT%', 'PTS']].sort_values('FG%', ascending=False).reset_index(drop = True).head(10)\n",
    "\n",
    "fig = px.bar(fg_percent, x = 'Player', y = 'FG%', text_auto= True)\n",
    "fig.show()"
   ]
  },
  {
   "cell_type": "markdown",
   "metadata": {},
   "source": [
    "## 3 - Quais jogadores tem maior aproveitamento nos arremessos de 3 pontos     \n"
   ]
  },
  {
   "cell_type": "code",
   "execution_count": 18,
   "metadata": {},
   "outputs": [
    {
     "data": {
      "text/html": [
       "<div>\n",
       "<style scoped>\n",
       "    .dataframe tbody tr th:only-of-type {\n",
       "        vertical-align: middle;\n",
       "    }\n",
       "\n",
       "    .dataframe tbody tr th {\n",
       "        vertical-align: top;\n",
       "    }\n",
       "\n",
       "    .dataframe thead th {\n",
       "        text-align: right;\n",
       "    }\n",
       "</style>\n",
       "<table border=\"1\" class=\"dataframe\">\n",
       "  <thead>\n",
       "    <tr style=\"text-align: right;\">\n",
       "      <th></th>\n",
       "      <th>Player</th>\n",
       "      <th>3P</th>\n",
       "      <th>3PA</th>\n",
       "      <th>3P%</th>\n",
       "    </tr>\n",
       "  </thead>\n",
       "  <tbody>\n",
       "    <tr>\n",
       "      <th>0</th>\n",
       "      <td>Stephen Curry</td>\n",
       "      <td>285</td>\n",
       "      <td>750</td>\n",
       "      <td>0.38</td>\n",
       "    </tr>\n",
       "    <tr>\n",
       "      <th>1</th>\n",
       "      <td>Buddy Hield</td>\n",
       "      <td>262</td>\n",
       "      <td>716</td>\n",
       "      <td>0.37</td>\n",
       "    </tr>\n",
       "    <tr>\n",
       "      <th>2</th>\n",
       "      <td>Fred VanVleet</td>\n",
       "      <td>242</td>\n",
       "      <td>642</td>\n",
       "      <td>0.38</td>\n",
       "    </tr>\n",
       "    <tr>\n",
       "      <th>3</th>\n",
       "      <td>Evan Fournier</td>\n",
       "      <td>241</td>\n",
       "      <td>619</td>\n",
       "      <td>0.39</td>\n",
       "    </tr>\n",
       "    <tr>\n",
       "      <th>4</th>\n",
       "      <td>Malik Beasley</td>\n",
       "      <td>240</td>\n",
       "      <td>637</td>\n",
       "      <td>0.38</td>\n",
       "    </tr>\n",
       "  </tbody>\n",
       "</table>\n",
       "</div>"
      ],
      "text/plain": [
       "          Player   3P  3PA  3P%\n",
       "0  Stephen Curry  285  750 0.38\n",
       "1    Buddy Hield  262  716 0.37\n",
       "2  Fred VanVleet  242  642 0.38\n",
       "3  Evan Fournier  241  619 0.39\n",
       "4  Malik Beasley  240  637 0.38"
      ]
     },
     "execution_count": 18,
     "metadata": {},
     "output_type": "execute_result"
    }
   ],
   "source": [
    "df_player[['Player', '3P', '3PA', '3P%']].sort_values('3P', ascending=False).reset_index(drop=True).head()"
   ]
  },
  {
   "cell_type": "markdown",
   "metadata": {},
   "source": [
    "## 4 - Quais jogadores fizeram mais pontos por posição     \n"
   ]
  },
  {
   "cell_type": "code",
   "execution_count": 19,
   "metadata": {},
   "outputs": [
    {
     "name": "stdout",
     "output_type": "stream",
     "text": [
      " Most points in position C: \n",
      "          Player   PTS\n",
      "206  Joel Embiid  2079\n",
      " Most points in position PF: \n",
      "            Player   PTS\n",
      "167  DeMar DeRozan  2118\n",
      " Most points in position SG: \n",
      "          Player   PTS\n",
      "70  Devin Booker  1822\n",
      " Most points in position PG: \n",
      "         Player   PTS\n",
      "808  Trae Young  2155\n",
      " Most points in position SF: \n",
      "           Player   PTS\n",
      "708  Jayson Tatum  2046\n"
     ]
    },
    {
     "name": "stderr",
     "output_type": "stream",
     "text": [
      "C:\\Users\\gbrla\\AppData\\Local\\Temp\\ipykernel_10072\\2271922992.py:3: SettingWithCopyWarning:\n",
      "\n",
      "\n",
      "A value is trying to be set on a copy of a slice from a DataFrame\n",
      "\n",
      "See the caveats in the documentation: https://pandas.pydata.org/pandas-docs/stable/user_guide/indexing.html#returning-a-view-versus-a-copy\n",
      "\n",
      "C:\\Users\\gbrla\\AppData\\Local\\Temp\\ipykernel_10072\\2271922992.py:3: SettingWithCopyWarning:\n",
      "\n",
      "\n",
      "A value is trying to be set on a copy of a slice from a DataFrame\n",
      "\n",
      "See the caveats in the documentation: https://pandas.pydata.org/pandas-docs/stable/user_guide/indexing.html#returning-a-view-versus-a-copy\n",
      "\n",
      "C:\\Users\\gbrla\\AppData\\Local\\Temp\\ipykernel_10072\\2271922992.py:3: SettingWithCopyWarning:\n",
      "\n",
      "\n",
      "A value is trying to be set on a copy of a slice from a DataFrame\n",
      "\n",
      "See the caveats in the documentation: https://pandas.pydata.org/pandas-docs/stable/user_guide/indexing.html#returning-a-view-versus-a-copy\n",
      "\n",
      "C:\\Users\\gbrla\\AppData\\Local\\Temp\\ipykernel_10072\\2271922992.py:3: SettingWithCopyWarning:\n",
      "\n",
      "\n",
      "A value is trying to be set on a copy of a slice from a DataFrame\n",
      "\n",
      "See the caveats in the documentation: https://pandas.pydata.org/pandas-docs/stable/user_guide/indexing.html#returning-a-view-versus-a-copy\n",
      "\n",
      "C:\\Users\\gbrla\\AppData\\Local\\Temp\\ipykernel_10072\\2271922992.py:3: SettingWithCopyWarning:\n",
      "\n",
      "\n",
      "A value is trying to be set on a copy of a slice from a DataFrame\n",
      "\n",
      "See the caveats in the documentation: https://pandas.pydata.org/pandas-docs/stable/user_guide/indexing.html#returning-a-view-versus-a-copy\n",
      "\n"
     ]
    }
   ],
   "source": [
    "for i in df1['Pos'].unique():\n",
    "    df_aux = df1[df1['Pos'] == i]\n",
    "    df_aux.sort_values('PTS', ascending=False, inplace=True)\n",
    "    print(f' Most points in position {i}: ')\n",
    "    print(df_aux.loc[df_aux['PTS'] == df_aux['PTS'].max(), ['Player', 'PTS'] ])\n"
   ]
  },
  {
   "cell_type": "code",
   "execution_count": 20,
   "metadata": {},
   "outputs": [
    {
     "data": {
      "text/html": [
       "<div>\n",
       "<style scoped>\n",
       "    .dataframe tbody tr th:only-of-type {\n",
       "        vertical-align: middle;\n",
       "    }\n",
       "\n",
       "    .dataframe tbody tr th {\n",
       "        vertical-align: top;\n",
       "    }\n",
       "\n",
       "    .dataframe thead th {\n",
       "        text-align: right;\n",
       "    }\n",
       "</style>\n",
       "<table border=\"1\" class=\"dataframe\">\n",
       "  <thead>\n",
       "    <tr style=\"text-align: right;\">\n",
       "      <th></th>\n",
       "      <th>Player</th>\n",
       "      <th>Pos</th>\n",
       "      <th>PTS</th>\n",
       "    </tr>\n",
       "  </thead>\n",
       "  <tbody>\n",
       "    <tr>\n",
       "      <th>808</th>\n",
       "      <td>Trae Young</td>\n",
       "      <td>PG</td>\n",
       "      <td>2155</td>\n",
       "    </tr>\n",
       "  </tbody>\n",
       "</table>\n",
       "</div>"
      ],
      "text/plain": [
       "         Player Pos   PTS\n",
       "808  Trae Young  PG  2155"
      ]
     },
     "execution_count": 20,
     "metadata": {},
     "output_type": "execute_result"
    }
   ],
   "source": [
    "point_guard = df1[(df1['Pos'] == 'PG')]\n",
    "point_guard[point_guard['PTS'] == point_guard['PTS'].max()][['Player', 'Pos', 'PTS']]"
   ]
  },
  {
   "cell_type": "code",
   "execution_count": 21,
   "metadata": {},
   "outputs": [
    {
     "data": {
      "text/html": [
       "<div>\n",
       "<style scoped>\n",
       "    .dataframe tbody tr th:only-of-type {\n",
       "        vertical-align: middle;\n",
       "    }\n",
       "\n",
       "    .dataframe tbody tr th {\n",
       "        vertical-align: top;\n",
       "    }\n",
       "\n",
       "    .dataframe thead th {\n",
       "        text-align: right;\n",
       "    }\n",
       "</style>\n",
       "<table border=\"1\" class=\"dataframe\">\n",
       "  <thead>\n",
       "    <tr style=\"text-align: right;\">\n",
       "      <th></th>\n",
       "      <th>Player</th>\n",
       "      <th>Pos</th>\n",
       "      <th>PTS</th>\n",
       "    </tr>\n",
       "  </thead>\n",
       "  <tbody>\n",
       "    <tr>\n",
       "      <th>70</th>\n",
       "      <td>Devin Booker</td>\n",
       "      <td>SG</td>\n",
       "      <td>1822</td>\n",
       "    </tr>\n",
       "  </tbody>\n",
       "</table>\n",
       "</div>"
      ],
      "text/plain": [
       "          Player Pos   PTS\n",
       "70  Devin Booker  SG  1822"
      ]
     },
     "execution_count": 21,
     "metadata": {},
     "output_type": "execute_result"
    }
   ],
   "source": [
    "shooting_guard = df1[(df1['Pos'] == 'SG')]\n",
    "shooting_guard[shooting_guard['PTS'] == shooting_guard['PTS'].max()][['Player', 'Pos', 'PTS']]"
   ]
  },
  {
   "cell_type": "code",
   "execution_count": 22,
   "metadata": {},
   "outputs": [
    {
     "data": {
      "text/html": [
       "<div>\n",
       "<style scoped>\n",
       "    .dataframe tbody tr th:only-of-type {\n",
       "        vertical-align: middle;\n",
       "    }\n",
       "\n",
       "    .dataframe tbody tr th {\n",
       "        vertical-align: top;\n",
       "    }\n",
       "\n",
       "    .dataframe thead th {\n",
       "        text-align: right;\n",
       "    }\n",
       "</style>\n",
       "<table border=\"1\" class=\"dataframe\">\n",
       "  <thead>\n",
       "    <tr style=\"text-align: right;\">\n",
       "      <th></th>\n",
       "      <th>Player</th>\n",
       "      <th>Pos</th>\n",
       "      <th>PTS</th>\n",
       "    </tr>\n",
       "  </thead>\n",
       "  <tbody>\n",
       "    <tr>\n",
       "      <th>708</th>\n",
       "      <td>Jayson Tatum</td>\n",
       "      <td>SF</td>\n",
       "      <td>2046</td>\n",
       "    </tr>\n",
       "  </tbody>\n",
       "</table>\n",
       "</div>"
      ],
      "text/plain": [
       "           Player Pos   PTS\n",
       "708  Jayson Tatum  SF  2046"
      ]
     },
     "execution_count": 22,
     "metadata": {},
     "output_type": "execute_result"
    }
   ],
   "source": [
    "small_foward = df1[(df1['Pos'] == 'SF')]\n",
    "small_foward[small_foward['PTS'] == small_foward['PTS'].max()][['Player', 'Pos', 'PTS']]"
   ]
  },
  {
   "cell_type": "code",
   "execution_count": 23,
   "metadata": {},
   "outputs": [
    {
     "data": {
      "text/html": [
       "<div>\n",
       "<style scoped>\n",
       "    .dataframe tbody tr th:only-of-type {\n",
       "        vertical-align: middle;\n",
       "    }\n",
       "\n",
       "    .dataframe tbody tr th {\n",
       "        vertical-align: top;\n",
       "    }\n",
       "\n",
       "    .dataframe thead th {\n",
       "        text-align: right;\n",
       "    }\n",
       "</style>\n",
       "<table border=\"1\" class=\"dataframe\">\n",
       "  <thead>\n",
       "    <tr style=\"text-align: right;\">\n",
       "      <th></th>\n",
       "      <th>Player</th>\n",
       "      <th>Pos</th>\n",
       "      <th>PTS</th>\n",
       "    </tr>\n",
       "  </thead>\n",
       "  <tbody>\n",
       "    <tr>\n",
       "      <th>167</th>\n",
       "      <td>DeMar DeRozan</td>\n",
       "      <td>PF</td>\n",
       "      <td>2118</td>\n",
       "    </tr>\n",
       "  </tbody>\n",
       "</table>\n",
       "</div>"
      ],
      "text/plain": [
       "            Player Pos   PTS\n",
       "167  DeMar DeRozan  PF  2118"
      ]
     },
     "execution_count": 23,
     "metadata": {},
     "output_type": "execute_result"
    }
   ],
   "source": [
    "power_foward = df1[(df1['Pos'] == 'PF')]\n",
    "power_foward[power_foward['PTS'] == power_foward['PTS'].max()][['Player', 'Pos', 'PTS']]"
   ]
  },
  {
   "cell_type": "code",
   "execution_count": 24,
   "metadata": {},
   "outputs": [
    {
     "data": {
      "text/html": [
       "<div>\n",
       "<style scoped>\n",
       "    .dataframe tbody tr th:only-of-type {\n",
       "        vertical-align: middle;\n",
       "    }\n",
       "\n",
       "    .dataframe tbody tr th {\n",
       "        vertical-align: top;\n",
       "    }\n",
       "\n",
       "    .dataframe thead th {\n",
       "        text-align: right;\n",
       "    }\n",
       "</style>\n",
       "<table border=\"1\" class=\"dataframe\">\n",
       "  <thead>\n",
       "    <tr style=\"text-align: right;\">\n",
       "      <th></th>\n",
       "      <th>Player</th>\n",
       "      <th>Pos</th>\n",
       "      <th>PTS</th>\n",
       "    </tr>\n",
       "  </thead>\n",
       "  <tbody>\n",
       "    <tr>\n",
       "      <th>206</th>\n",
       "      <td>Joel Embiid</td>\n",
       "      <td>C</td>\n",
       "      <td>2079</td>\n",
       "    </tr>\n",
       "  </tbody>\n",
       "</table>\n",
       "</div>"
      ],
      "text/plain": [
       "          Player Pos   PTS\n",
       "206  Joel Embiid   C  2079"
      ]
     },
     "execution_count": 24,
     "metadata": {},
     "output_type": "execute_result"
    }
   ],
   "source": [
    "center = df1[(df1['Pos'] == 'C')]\n",
    "center[center['PTS'] == center['PTS'].max()][['Player', 'Pos', 'PTS']]"
   ]
  },
  {
   "cell_type": "markdown",
   "metadata": {},
   "source": [
    "## 5 - Qual jogador tem mais tempo em quadra       \n"
   ]
  },
  {
   "cell_type": "code",
   "execution_count": 25,
   "metadata": {},
   "outputs": [
    {
     "data": {
      "text/html": [
       "<div>\n",
       "<style scoped>\n",
       "    .dataframe tbody tr th:only-of-type {\n",
       "        vertical-align: middle;\n",
       "    }\n",
       "\n",
       "    .dataframe tbody tr th {\n",
       "        vertical-align: top;\n",
       "    }\n",
       "\n",
       "    .dataframe thead th {\n",
       "        text-align: right;\n",
       "    }\n",
       "</style>\n",
       "<table border=\"1\" class=\"dataframe\">\n",
       "  <thead>\n",
       "    <tr style=\"text-align: right;\">\n",
       "      <th></th>\n",
       "      <th>Player</th>\n",
       "      <th>MP</th>\n",
       "    </tr>\n",
       "  </thead>\n",
       "  <tbody>\n",
       "    <tr>\n",
       "      <th>419</th>\n",
       "      <td>Mikal Bridges</td>\n",
       "      <td>2854</td>\n",
       "    </tr>\n",
       "  </tbody>\n",
       "</table>\n",
       "</div>"
      ],
      "text/plain": [
       "            Player    MP\n",
       "419  Mikal Bridges  2854"
      ]
     },
     "execution_count": 25,
     "metadata": {},
     "output_type": "execute_result"
    }
   ],
   "source": [
    "df_player.loc[df_player['MP'] == df_player['MP'].max(), ['Player', 'MP']]"
   ]
  },
  {
   "cell_type": "markdown",
   "metadata": {},
   "source": [
    "## 6 - Quais as maiores médias de pontos por jogo          \n"
   ]
  },
  {
   "cell_type": "code",
   "execution_count": 26,
   "metadata": {},
   "outputs": [
    {
     "data": {
      "text/html": [
       "<div>\n",
       "<style scoped>\n",
       "    .dataframe tbody tr th:only-of-type {\n",
       "        vertical-align: middle;\n",
       "    }\n",
       "\n",
       "    .dataframe tbody tr th {\n",
       "        vertical-align: top;\n",
       "    }\n",
       "\n",
       "    .dataframe thead th {\n",
       "        text-align: right;\n",
       "    }\n",
       "</style>\n",
       "<table border=\"1\" class=\"dataframe\">\n",
       "  <thead>\n",
       "    <tr style=\"text-align: right;\">\n",
       "      <th></th>\n",
       "      <th>Player</th>\n",
       "      <th>PPG</th>\n",
       "    </tr>\n",
       "  </thead>\n",
       "  <tbody>\n",
       "    <tr>\n",
       "      <th>0</th>\n",
       "      <td>Joel Embiid</td>\n",
       "      <td>30.57</td>\n",
       "    </tr>\n",
       "    <tr>\n",
       "      <th>1</th>\n",
       "      <td>LeBron James</td>\n",
       "      <td>30.27</td>\n",
       "    </tr>\n",
       "    <tr>\n",
       "      <th>2</th>\n",
       "      <td>Giannis Antetokounmpo</td>\n",
       "      <td>29.88</td>\n",
       "    </tr>\n",
       "    <tr>\n",
       "      <th>3</th>\n",
       "      <td>Kevin Durant</td>\n",
       "      <td>29.87</td>\n",
       "    </tr>\n",
       "    <tr>\n",
       "      <th>4</th>\n",
       "      <td>Luka Dončić</td>\n",
       "      <td>28.42</td>\n",
       "    </tr>\n",
       "  </tbody>\n",
       "</table>\n",
       "</div>"
      ],
      "text/plain": [
       "                  Player   PPG\n",
       "0            Joel Embiid 30.57\n",
       "1           LeBron James 30.27\n",
       "2  Giannis Antetokounmpo 29.88\n",
       "3           Kevin Durant 29.87\n",
       "4            Luka Dončić 28.42"
      ]
     },
     "execution_count": 26,
     "metadata": {},
     "output_type": "execute_result"
    }
   ],
   "source": [
    "df_player[['Player', 'PPG']].sort_values('PPG', ascending=False).reset_index(drop=True).head()"
   ]
  },
  {
   "cell_type": "markdown",
   "metadata": {},
   "source": [
    "## 7 - Quais as maiores médias por jogo de atributos defensivos ( TRB, STL, BLK)       \n"
   ]
  },
  {
   "cell_type": "code",
   "execution_count": 27,
   "metadata": {},
   "outputs": [
    {
     "name": "stdout",
     "output_type": "stream",
     "text": [
      " Best stealer = Derrick Walton, with 2.33 steals per game\n",
      " Best blocker = Myles Turner, with 2.81 blocks per game\n",
      " Best rebounder = Rudy Gobert, with 14.67 rebounds per game\n"
     ]
    }
   ],
   "source": [
    "df_defense = df_player[(df_player['RPG'] == df_player['RPG'].max()) | \\\n",
    "                        (df_player['BLKPG'] == df_player['BLKPG'].max()) | \\\n",
    "                        (df_player['SPG'] == df_player['SPG'].max())][['Player', 'RPG', 'BLKPG', 'SPG']]\n",
    "                        \n",
    "\n",
    "\n",
    "df_defense\n",
    "\n",
    "print(f' Best stealer = {df_defense.iloc[0,0]}, with {np.round(df_defense.iloc[0,3], 2)} steals per game')\n",
    "print(f' Best blocker = {df_defense.iloc[1,0]}, with {np.round(df_defense.iloc[1,2], 2)} blocks per game')\n",
    "print(f' Best rebounder = {df_defense.iloc[2,0]}, with {np.round(df_defense.iloc[2,1], 2)} rebounds per game')"
   ]
  },
  {
   "cell_type": "markdown",
   "metadata": {},
   "source": [
    "## 8 - Quais as maiores médias de turn overs por jogo          \n"
   ]
  },
  {
   "cell_type": "code",
   "execution_count": 28,
   "metadata": {},
   "outputs": [
    {
     "data": {
      "text/html": [
       "<div>\n",
       "<style scoped>\n",
       "    .dataframe tbody tr th:only-of-type {\n",
       "        vertical-align: middle;\n",
       "    }\n",
       "\n",
       "    .dataframe tbody tr th {\n",
       "        vertical-align: top;\n",
       "    }\n",
       "\n",
       "    .dataframe thead th {\n",
       "        text-align: right;\n",
       "    }\n",
       "</style>\n",
       "<table border=\"1\" class=\"dataframe\">\n",
       "  <thead>\n",
       "    <tr style=\"text-align: right;\">\n",
       "      <th></th>\n",
       "      <th>index</th>\n",
       "      <th>Player</th>\n",
       "      <th>TOVPG</th>\n",
       "    </tr>\n",
       "  </thead>\n",
       "  <tbody>\n",
       "    <tr>\n",
       "      <th>0</th>\n",
       "      <td>383</td>\n",
       "      <td>Luka Dončić</td>\n",
       "      <td>4.49</td>\n",
       "    </tr>\n",
       "    <tr>\n",
       "      <th>1</th>\n",
       "      <td>258</td>\n",
       "      <td>James Harden</td>\n",
       "      <td>4.37</td>\n",
       "    </tr>\n",
       "    <tr>\n",
       "      <th>2</th>\n",
       "      <td>469</td>\n",
       "      <td>Paul George</td>\n",
       "      <td>4.06</td>\n",
       "    </tr>\n",
       "    <tr>\n",
       "      <th>3</th>\n",
       "      <td>553</td>\n",
       "      <td>Trae Young</td>\n",
       "      <td>3.99</td>\n",
       "    </tr>\n",
       "    <tr>\n",
       "      <th>4</th>\n",
       "      <td>449</td>\n",
       "      <td>Nikola Jokić</td>\n",
       "      <td>3.80</td>\n",
       "    </tr>\n",
       "    <tr>\n",
       "      <th>...</th>\n",
       "      <td>...</td>\n",
       "      <td>...</td>\n",
       "      <td>...</td>\n",
       "    </tr>\n",
       "    <tr>\n",
       "      <th>600</th>\n",
       "      <td>131</td>\n",
       "      <td>DeJon Jarreau</td>\n",
       "      <td>0.00</td>\n",
       "    </tr>\n",
       "    <tr>\n",
       "      <th>601</th>\n",
       "      <td>121</td>\n",
       "      <td>David Johnson</td>\n",
       "      <td>0.00</td>\n",
       "    </tr>\n",
       "    <tr>\n",
       "      <th>602</th>\n",
       "      <td>557</td>\n",
       "      <td>Tre Scott</td>\n",
       "      <td>0.00</td>\n",
       "    </tr>\n",
       "    <tr>\n",
       "      <th>603</th>\n",
       "      <td>112</td>\n",
       "      <td>Daniel Oturu</td>\n",
       "      <td>0.00</td>\n",
       "    </tr>\n",
       "    <tr>\n",
       "      <th>604</th>\n",
       "      <td>604</td>\n",
       "      <td>Zylan Cheatham</td>\n",
       "      <td>0.00</td>\n",
       "    </tr>\n",
       "  </tbody>\n",
       "</table>\n",
       "<p>605 rows × 3 columns</p>\n",
       "</div>"
      ],
      "text/plain": [
       "     index          Player  TOVPG\n",
       "0      383     Luka Dončić   4.49\n",
       "1      258    James Harden   4.37\n",
       "2      469     Paul George   4.06\n",
       "3      553      Trae Young   3.99\n",
       "4      449    Nikola Jokić   3.80\n",
       "..     ...             ...    ...\n",
       "600    131   DeJon Jarreau   0.00\n",
       "601    121   David Johnson   0.00\n",
       "602    557       Tre Scott   0.00\n",
       "603    112    Daniel Oturu   0.00\n",
       "604    604  Zylan Cheatham   0.00\n",
       "\n",
       "[605 rows x 3 columns]"
      ]
     },
     "execution_count": 28,
     "metadata": {},
     "output_type": "execute_result"
    }
   ],
   "source": [
    "df_player[['Player', 'TOVPG']].sort_values('TOVPG', ascending=False).reset_index()"
   ]
  },
  {
   "cell_type": "markdown",
   "metadata": {},
   "source": [
    "As maiores médias de turnovers pertencem a jogadores mais habilidosos. Uma explicação possível é que jogadores desse nível tendem a ficar mais tempo com a posse da bola e mais jogadas passam por eles, aumentando as chances de um erro."
   ]
  },
  {
   "cell_type": "markdown",
   "metadata": {},
   "source": [
    "## 9 - Quais jogadores cometem mais faltas     \n"
   ]
  },
  {
   "cell_type": "code",
   "execution_count": 29,
   "metadata": {},
   "outputs": [
    {
     "data": {
      "text/html": [
       "<div>\n",
       "<style scoped>\n",
       "    .dataframe tbody tr th:only-of-type {\n",
       "        vertical-align: middle;\n",
       "    }\n",
       "\n",
       "    .dataframe tbody tr th {\n",
       "        vertical-align: top;\n",
       "    }\n",
       "\n",
       "    .dataframe thead th {\n",
       "        text-align: right;\n",
       "    }\n",
       "</style>\n",
       "<table border=\"1\" class=\"dataframe\">\n",
       "  <thead>\n",
       "    <tr style=\"text-align: right;\">\n",
       "      <th></th>\n",
       "      <th>Player</th>\n",
       "      <th>PF</th>\n",
       "    </tr>\n",
       "  </thead>\n",
       "  <tbody>\n",
       "    <tr>\n",
       "      <th>245</th>\n",
       "      <td>Jae'Sean Tate</td>\n",
       "      <td>286</td>\n",
       "    </tr>\n",
       "    <tr>\n",
       "      <th>263</th>\n",
       "      <td>Jaren Jackson Jr.</td>\n",
       "      <td>272</td>\n",
       "    </tr>\n",
       "    <tr>\n",
       "      <th>331</th>\n",
       "      <td>Karl-Anthony Towns</td>\n",
       "      <td>267</td>\n",
       "    </tr>\n",
       "    <tr>\n",
       "      <th>299</th>\n",
       "      <td>Jonas Valančiūnas</td>\n",
       "      <td>247</td>\n",
       "    </tr>\n",
       "    <tr>\n",
       "      <th>220</th>\n",
       "      <td>Herbert Jones</td>\n",
       "      <td>238</td>\n",
       "    </tr>\n",
       "  </tbody>\n",
       "</table>\n",
       "</div>"
      ],
      "text/plain": [
       "                 Player   PF\n",
       "245       Jae'Sean Tate  286\n",
       "263   Jaren Jackson Jr.  272\n",
       "331  Karl-Anthony Towns  267\n",
       "299   Jonas Valančiūnas  247\n",
       "220       Herbert Jones  238"
      ]
     },
     "execution_count": 29,
     "metadata": {},
     "output_type": "execute_result"
    }
   ],
   "source": [
    "df_player[['Player',  'PF']].sort_values('PF', ascending=False).head()\n"
   ]
  },
  {
   "cell_type": "code",
   "execution_count": 30,
   "metadata": {},
   "outputs": [
    {
     "data": {
      "text/html": [
       "<div>\n",
       "<style scoped>\n",
       "    .dataframe tbody tr th:only-of-type {\n",
       "        vertical-align: middle;\n",
       "    }\n",
       "\n",
       "    .dataframe tbody tr th {\n",
       "        vertical-align: top;\n",
       "    }\n",
       "\n",
       "    .dataframe thead th {\n",
       "        text-align: right;\n",
       "    }\n",
       "</style>\n",
       "<table border=\"1\" class=\"dataframe\">\n",
       "  <thead>\n",
       "    <tr style=\"text-align: right;\">\n",
       "      <th></th>\n",
       "      <th>Player</th>\n",
       "      <th>PFPG</th>\n",
       "    </tr>\n",
       "  </thead>\n",
       "  <tbody>\n",
       "    <tr>\n",
       "      <th>601</th>\n",
       "      <td>Zavier Simpson</td>\n",
       "      <td>3.75</td>\n",
       "    </tr>\n",
       "    <tr>\n",
       "      <th>245</th>\n",
       "      <td>Jae'Sean Tate</td>\n",
       "      <td>3.67</td>\n",
       "    </tr>\n",
       "    <tr>\n",
       "      <th>331</th>\n",
       "      <td>Karl-Anthony Towns</td>\n",
       "      <td>3.61</td>\n",
       "    </tr>\n",
       "    <tr>\n",
       "      <th>263</th>\n",
       "      <td>Jaren Jackson Jr.</td>\n",
       "      <td>3.49</td>\n",
       "    </tr>\n",
       "    <tr>\n",
       "      <th>327</th>\n",
       "      <td>Jusuf Nurkić</td>\n",
       "      <td>3.38</td>\n",
       "    </tr>\n",
       "  </tbody>\n",
       "</table>\n",
       "</div>"
      ],
      "text/plain": [
       "                 Player  PFPG\n",
       "601      Zavier Simpson  3.75\n",
       "245       Jae'Sean Tate  3.67\n",
       "331  Karl-Anthony Towns  3.61\n",
       "263   Jaren Jackson Jr.  3.49\n",
       "327        Jusuf Nurkić  3.38"
      ]
     },
     "execution_count": 30,
     "metadata": {},
     "output_type": "execute_result"
    }
   ],
   "source": [
    "df_player[['Player',  'PFPG']].sort_values('PFPG', ascending=False).head()"
   ]
  },
  {
   "cell_type": "markdown",
   "metadata": {},
   "source": [
    "## 10 - Quais os melhores arremessadores de bolas de 3 pontos até 20 anos de idade"
   ]
  },
  {
   "cell_type": "code",
   "execution_count": 31,
   "metadata": {},
   "outputs": [
    {
     "data": {
      "text/html": [
       "<div>\n",
       "<style scoped>\n",
       "    .dataframe tbody tr th:only-of-type {\n",
       "        vertical-align: middle;\n",
       "    }\n",
       "\n",
       "    .dataframe tbody tr th {\n",
       "        vertical-align: top;\n",
       "    }\n",
       "\n",
       "    .dataframe thead th {\n",
       "        text-align: right;\n",
       "    }\n",
       "</style>\n",
       "<table border=\"1\" class=\"dataframe\">\n",
       "  <thead>\n",
       "    <tr style=\"text-align: right;\">\n",
       "      <th></th>\n",
       "      <th>Player</th>\n",
       "      <th>3P</th>\n",
       "      <th>3PA</th>\n",
       "      <th>3P%</th>\n",
       "    </tr>\n",
       "  </thead>\n",
       "  <tbody>\n",
       "    <tr>\n",
       "      <th>367</th>\n",
       "      <td>LaMelo Ball</td>\n",
       "      <td>220</td>\n",
       "      <td>565</td>\n",
       "      <td>0.39</td>\n",
       "    </tr>\n",
       "    <tr>\n",
       "      <th>556</th>\n",
       "      <td>Tre Mann</td>\n",
       "      <td>98</td>\n",
       "      <td>272</td>\n",
       "      <td>0.36</td>\n",
       "    </tr>\n",
       "    <tr>\n",
       "      <th>24</th>\n",
       "      <td>Anthony Edwards</td>\n",
       "      <td>215</td>\n",
       "      <td>602</td>\n",
       "      <td>0.36</td>\n",
       "    </tr>\n",
       "    <tr>\n",
       "      <th>188</th>\n",
       "      <td>Franz Wagner</td>\n",
       "      <td>96</td>\n",
       "      <td>271</td>\n",
       "      <td>0.35</td>\n",
       "    </tr>\n",
       "    <tr>\n",
       "      <th>251</th>\n",
       "      <td>Jalen Green</td>\n",
       "      <td>157</td>\n",
       "      <td>458</td>\n",
       "      <td>0.34</td>\n",
       "    </tr>\n",
       "    <tr>\n",
       "      <th>300</th>\n",
       "      <td>Jonathan Kuminga</td>\n",
       "      <td>50</td>\n",
       "      <td>149</td>\n",
       "      <td>0.34</td>\n",
       "    </tr>\n",
       "    <tr>\n",
       "      <th>230</th>\n",
       "      <td>Isaiah Stewart</td>\n",
       "      <td>15</td>\n",
       "      <td>46</td>\n",
       "      <td>0.33</td>\n",
       "    </tr>\n",
       "    <tr>\n",
       "      <th>62</th>\n",
       "      <td>Cade Cunningham</td>\n",
       "      <td>114</td>\n",
       "      <td>363</td>\n",
       "      <td>0.31</td>\n",
       "    </tr>\n",
       "    <tr>\n",
       "      <th>603</th>\n",
       "      <td>Ziaire Williams</td>\n",
       "      <td>76</td>\n",
       "      <td>242</td>\n",
       "      <td>0.31</td>\n",
       "    </tr>\n",
       "    <tr>\n",
       "      <th>510</th>\n",
       "      <td>Scottie Barnes</td>\n",
       "      <td>58</td>\n",
       "      <td>193</td>\n",
       "      <td>0.30</td>\n",
       "    </tr>\n",
       "    <tr>\n",
       "      <th>309</th>\n",
       "      <td>Josh Christopher</td>\n",
       "      <td>56</td>\n",
       "      <td>189</td>\n",
       "      <td>0.30</td>\n",
       "    </tr>\n",
       "    <tr>\n",
       "      <th>65</th>\n",
       "      <td>Cam Thomas</td>\n",
       "      <td>47</td>\n",
       "      <td>174</td>\n",
       "      <td>0.27</td>\n",
       "    </tr>\n",
       "    <tr>\n",
       "      <th>310</th>\n",
       "      <td>Josh Giddey</td>\n",
       "      <td>56</td>\n",
       "      <td>213</td>\n",
       "      <td>0.26</td>\n",
       "    </tr>\n",
       "    <tr>\n",
       "      <th>182</th>\n",
       "      <td>Evan Mobley</td>\n",
       "      <td>23</td>\n",
       "      <td>92</td>\n",
       "      <td>0.25</td>\n",
       "    </tr>\n",
       "    <tr>\n",
       "      <th>17</th>\n",
       "      <td>Alperen Şengün</td>\n",
       "      <td>29</td>\n",
       "      <td>117</td>\n",
       "      <td>0.25</td>\n",
       "    </tr>\n",
       "    <tr>\n",
       "      <th>255</th>\n",
       "      <td>Jalen Suggs</td>\n",
       "      <td>42</td>\n",
       "      <td>196</td>\n",
       "      <td>0.21</td>\n",
       "    </tr>\n",
       "  </tbody>\n",
       "</table>\n",
       "</div>"
      ],
      "text/plain": [
       "               Player   3P  3PA  3P%\n",
       "367       LaMelo Ball  220  565 0.39\n",
       "556          Tre Mann   98  272 0.36\n",
       "24    Anthony Edwards  215  602 0.36\n",
       "188      Franz Wagner   96  271 0.35\n",
       "251       Jalen Green  157  458 0.34\n",
       "300  Jonathan Kuminga   50  149 0.34\n",
       "230    Isaiah Stewart   15   46 0.33\n",
       "62    Cade Cunningham  114  363 0.31\n",
       "603   Ziaire Williams   76  242 0.31\n",
       "510    Scottie Barnes   58  193 0.30\n",
       "309  Josh Christopher   56  189 0.30\n",
       "65         Cam Thomas   47  174 0.27\n",
       "310       Josh Giddey   56  213 0.26\n",
       "182       Evan Mobley   23   92 0.25\n",
       "17     Alperen Şengün   29  117 0.25\n",
       "255       Jalen Suggs   42  196 0.21"
      ]
     },
     "execution_count": 31,
     "metadata": {},
     "output_type": "execute_result"
    }
   ],
   "source": [
    "df_player[(df_player['Age'] < 21) & (df_player['PTS'] > 500) ][['Player', '3P', '3PA', '3P%']].sort_values('3P%', ascending=False)"
   ]
  },
  {
   "cell_type": "markdown",
   "metadata": {},
   "source": [
    "## 11 - Quais times tem melhor aproveitamento em arremessos de quadra\n"
   ]
  },
  {
   "cell_type": "code",
   "execution_count": 32,
   "metadata": {},
   "outputs": [
    {
     "data": {
      "text/html": [
       "<div>\n",
       "<style scoped>\n",
       "    .dataframe tbody tr th:only-of-type {\n",
       "        vertical-align: middle;\n",
       "    }\n",
       "\n",
       "    .dataframe tbody tr th {\n",
       "        vertical-align: top;\n",
       "    }\n",
       "\n",
       "    .dataframe thead th {\n",
       "        text-align: right;\n",
       "    }\n",
       "</style>\n",
       "<table border=\"1\" class=\"dataframe\">\n",
       "  <thead>\n",
       "    <tr style=\"text-align: right;\">\n",
       "      <th></th>\n",
       "      <th>Tm</th>\n",
       "      <th>FG</th>\n",
       "      <th>FG%</th>\n",
       "      <th>eFG%</th>\n",
       "    </tr>\n",
       "  </thead>\n",
       "  <tbody>\n",
       "    <tr>\n",
       "      <th>0</th>\n",
       "      <td>DEN</td>\n",
       "      <td>3416</td>\n",
       "      <td>0.48</td>\n",
       "      <td>0.56</td>\n",
       "    </tr>\n",
       "    <tr>\n",
       "      <th>1</th>\n",
       "      <td>UTA</td>\n",
       "      <td>3327</td>\n",
       "      <td>0.47</td>\n",
       "      <td>0.56</td>\n",
       "    </tr>\n",
       "    <tr>\n",
       "      <th>2</th>\n",
       "      <td>GSW</td>\n",
       "      <td>3323</td>\n",
       "      <td>0.47</td>\n",
       "      <td>0.55</td>\n",
       "    </tr>\n",
       "    <tr>\n",
       "      <th>3</th>\n",
       "      <td>PHO</td>\n",
       "      <td>3581</td>\n",
       "      <td>0.48</td>\n",
       "      <td>0.55</td>\n",
       "    </tr>\n",
       "    <tr>\n",
       "      <th>4</th>\n",
       "      <td>MIA</td>\n",
       "      <td>3246</td>\n",
       "      <td>0.47</td>\n",
       "      <td>0.55</td>\n",
       "    </tr>\n",
       "    <tr>\n",
       "      <th>5</th>\n",
       "      <td>MIL</td>\n",
       "      <td>3429</td>\n",
       "      <td>0.47</td>\n",
       "      <td>0.55</td>\n",
       "    </tr>\n",
       "    <tr>\n",
       "      <th>6</th>\n",
       "      <td>CHO</td>\n",
       "      <td>3508</td>\n",
       "      <td>0.47</td>\n",
       "      <td>0.54</td>\n",
       "    </tr>\n",
       "    <tr>\n",
       "      <th>7</th>\n",
       "      <td>ATL</td>\n",
       "      <td>3401</td>\n",
       "      <td>0.47</td>\n",
       "      <td>0.54</td>\n",
       "    </tr>\n",
       "    <tr>\n",
       "      <th>8</th>\n",
       "      <td>BOS</td>\n",
       "      <td>3341</td>\n",
       "      <td>0.47</td>\n",
       "      <td>0.54</td>\n",
       "    </tr>\n",
       "    <tr>\n",
       "      <th>9</th>\n",
       "      <td>CHI</td>\n",
       "      <td>3422</td>\n",
       "      <td>0.48</td>\n",
       "      <td>0.54</td>\n",
       "    </tr>\n",
       "    <tr>\n",
       "      <th>10</th>\n",
       "      <td>BRK</td>\n",
       "      <td>3442</td>\n",
       "      <td>0.47</td>\n",
       "      <td>0.54</td>\n",
       "    </tr>\n",
       "    <tr>\n",
       "      <th>11</th>\n",
       "      <td>MIN</td>\n",
       "      <td>3411</td>\n",
       "      <td>0.46</td>\n",
       "      <td>0.54</td>\n",
       "    </tr>\n",
       "    <tr>\n",
       "      <th>12</th>\n",
       "      <td>DAL</td>\n",
       "      <td>3222</td>\n",
       "      <td>0.46</td>\n",
       "      <td>0.54</td>\n",
       "    </tr>\n",
       "    <tr>\n",
       "      <th>13</th>\n",
       "      <td>CLE</td>\n",
       "      <td>3255</td>\n",
       "      <td>0.47</td>\n",
       "      <td>0.54</td>\n",
       "    </tr>\n",
       "    <tr>\n",
       "      <th>14</th>\n",
       "      <td>LAL</td>\n",
       "      <td>3415</td>\n",
       "      <td>0.47</td>\n",
       "      <td>0.54</td>\n",
       "    </tr>\n",
       "    <tr>\n",
       "      <th>15</th>\n",
       "      <td>PHI</td>\n",
       "      <td>3230</td>\n",
       "      <td>0.47</td>\n",
       "      <td>0.53</td>\n",
       "    </tr>\n",
       "    <tr>\n",
       "      <th>16</th>\n",
       "      <td>HOU</td>\n",
       "      <td>3229</td>\n",
       "      <td>0.46</td>\n",
       "      <td>0.53</td>\n",
       "    </tr>\n",
       "    <tr>\n",
       "      <th>17</th>\n",
       "      <td>WAS</td>\n",
       "      <td>3327</td>\n",
       "      <td>0.47</td>\n",
       "      <td>0.53</td>\n",
       "    </tr>\n",
       "    <tr>\n",
       "      <th>18</th>\n",
       "      <td>LAC</td>\n",
       "      <td>3285</td>\n",
       "      <td>0.46</td>\n",
       "      <td>0.53</td>\n",
       "    </tr>\n",
       "    <tr>\n",
       "      <th>19</th>\n",
       "      <td>IND</td>\n",
       "      <td>3398</td>\n",
       "      <td>0.46</td>\n",
       "      <td>0.53</td>\n",
       "    </tr>\n",
       "    <tr>\n",
       "      <th>20</th>\n",
       "      <td>SAS</td>\n",
       "      <td>3546</td>\n",
       "      <td>0.47</td>\n",
       "      <td>0.53</td>\n",
       "    </tr>\n",
       "    <tr>\n",
       "      <th>21</th>\n",
       "      <td>SAC</td>\n",
       "      <td>3321</td>\n",
       "      <td>0.46</td>\n",
       "      <td>0.52</td>\n",
       "    </tr>\n",
       "    <tr>\n",
       "      <th>22</th>\n",
       "      <td>MEM</td>\n",
       "      <td>3571</td>\n",
       "      <td>0.46</td>\n",
       "      <td>0.52</td>\n",
       "    </tr>\n",
       "    <tr>\n",
       "      <th>23</th>\n",
       "      <td>NOP</td>\n",
       "      <td>3294</td>\n",
       "      <td>0.46</td>\n",
       "      <td>0.52</td>\n",
       "    </tr>\n",
       "    <tr>\n",
       "      <th>24</th>\n",
       "      <td>POR</td>\n",
       "      <td>3161</td>\n",
       "      <td>0.44</td>\n",
       "      <td>0.52</td>\n",
       "    </tr>\n",
       "    <tr>\n",
       "      <th>25</th>\n",
       "      <td>NYK</td>\n",
       "      <td>3088</td>\n",
       "      <td>0.44</td>\n",
       "      <td>0.51</td>\n",
       "    </tr>\n",
       "    <tr>\n",
       "      <th>26</th>\n",
       "      <td>TOR</td>\n",
       "      <td>3332</td>\n",
       "      <td>0.44</td>\n",
       "      <td>0.51</td>\n",
       "    </tr>\n",
       "    <tr>\n",
       "      <th>27</th>\n",
       "      <td>ORL</td>\n",
       "      <td>3139</td>\n",
       "      <td>0.43</td>\n",
       "      <td>0.50</td>\n",
       "    </tr>\n",
       "    <tr>\n",
       "      <th>28</th>\n",
       "      <td>OKC</td>\n",
       "      <td>3141</td>\n",
       "      <td>0.43</td>\n",
       "      <td>0.50</td>\n",
       "    </tr>\n",
       "    <tr>\n",
       "      <th>29</th>\n",
       "      <td>DET</td>\n",
       "      <td>3129</td>\n",
       "      <td>0.43</td>\n",
       "      <td>0.49</td>\n",
       "    </tr>\n",
       "  </tbody>\n",
       "</table>\n",
       "</div>"
      ],
      "text/plain": [
       "     Tm    FG  FG%  eFG%\n",
       "0   DEN  3416 0.48  0.56\n",
       "1   UTA  3327 0.47  0.56\n",
       "2   GSW  3323 0.47  0.55\n",
       "3   PHO  3581 0.48  0.55\n",
       "4   MIA  3246 0.47  0.55\n",
       "5   MIL  3429 0.47  0.55\n",
       "6   CHO  3508 0.47  0.54\n",
       "7   ATL  3401 0.47  0.54\n",
       "8   BOS  3341 0.47  0.54\n",
       "9   CHI  3422 0.48  0.54\n",
       "10  BRK  3442 0.47  0.54\n",
       "11  MIN  3411 0.46  0.54\n",
       "12  DAL  3222 0.46  0.54\n",
       "13  CLE  3255 0.47  0.54\n",
       "14  LAL  3415 0.47  0.54\n",
       "15  PHI  3230 0.47  0.53\n",
       "16  HOU  3229 0.46  0.53\n",
       "17  WAS  3327 0.47  0.53\n",
       "18  LAC  3285 0.46  0.53\n",
       "19  IND  3398 0.46  0.53\n",
       "20  SAS  3546 0.47  0.53\n",
       "21  SAC  3321 0.46  0.52\n",
       "22  MEM  3571 0.46  0.52\n",
       "23  NOP  3294 0.46  0.52\n",
       "24  POR  3161 0.44  0.52\n",
       "25  NYK  3088 0.44  0.51\n",
       "26  TOR  3332 0.44  0.51\n",
       "27  ORL  3139 0.43  0.50\n",
       "28  OKC  3141 0.43  0.50\n",
       "29  DET  3129 0.43  0.49"
      ]
     },
     "execution_count": 32,
     "metadata": {},
     "output_type": "execute_result"
    }
   ],
   "source": [
    "df_teams[['Tm', 'FG', 'FG%', 'eFG%']].sort_values('eFG%', ascending=False).reset_index(drop=True)"
   ]
  },
  {
   "cell_type": "markdown",
   "metadata": {},
   "source": [
    "## 12 - Quais times tem o pior aproveitamento de lance livre\n"
   ]
  },
  {
   "cell_type": "code",
   "execution_count": 33,
   "metadata": {},
   "outputs": [
    {
     "data": {
      "text/html": [
       "<div>\n",
       "<style scoped>\n",
       "    .dataframe tbody tr th:only-of-type {\n",
       "        vertical-align: middle;\n",
       "    }\n",
       "\n",
       "    .dataframe tbody tr th {\n",
       "        vertical-align: top;\n",
       "    }\n",
       "\n",
       "    .dataframe thead th {\n",
       "        text-align: right;\n",
       "    }\n",
       "</style>\n",
       "<table border=\"1\" class=\"dataframe\">\n",
       "  <thead>\n",
       "    <tr style=\"text-align: right;\">\n",
       "      <th></th>\n",
       "      <th>Tm</th>\n",
       "      <th>FT</th>\n",
       "      <th>FTA</th>\n",
       "      <th>FT%</th>\n",
       "    </tr>\n",
       "  </thead>\n",
       "  <tbody>\n",
       "    <tr>\n",
       "      <th>0</th>\n",
       "      <td>HOU</td>\n",
       "      <td>1434</td>\n",
       "      <td>2010</td>\n",
       "      <td>0.71</td>\n",
       "    </tr>\n",
       "    <tr>\n",
       "      <th>1</th>\n",
       "      <td>LAL</td>\n",
       "      <td>1380</td>\n",
       "      <td>1884</td>\n",
       "      <td>0.73</td>\n",
       "    </tr>\n",
       "    <tr>\n",
       "      <th>2</th>\n",
       "      <td>MEM</td>\n",
       "      <td>1393</td>\n",
       "      <td>1898</td>\n",
       "      <td>0.73</td>\n",
       "    </tr>\n",
       "    <tr>\n",
       "      <th>3</th>\n",
       "      <td>CHO</td>\n",
       "      <td>1298</td>\n",
       "      <td>1753</td>\n",
       "      <td>0.74</td>\n",
       "    </tr>\n",
       "    <tr>\n",
       "      <th>4</th>\n",
       "      <td>NYK</td>\n",
       "      <td>1473</td>\n",
       "      <td>1980</td>\n",
       "      <td>0.74</td>\n",
       "    </tr>\n",
       "    <tr>\n",
       "      <th>5</th>\n",
       "      <td>SAS</td>\n",
       "      <td>1262</td>\n",
       "      <td>1673</td>\n",
       "      <td>0.75</td>\n",
       "    </tr>\n",
       "    <tr>\n",
       "      <th>6</th>\n",
       "      <td>OKC</td>\n",
       "      <td>1233</td>\n",
       "      <td>1632</td>\n",
       "      <td>0.76</td>\n",
       "    </tr>\n",
       "    <tr>\n",
       "      <th>7</th>\n",
       "      <td>TOR</td>\n",
       "      <td>1327</td>\n",
       "      <td>1749</td>\n",
       "      <td>0.76</td>\n",
       "    </tr>\n",
       "    <tr>\n",
       "      <th>8</th>\n",
       "      <td>POR</td>\n",
       "      <td>1346</td>\n",
       "      <td>1771</td>\n",
       "      <td>0.76</td>\n",
       "    </tr>\n",
       "    <tr>\n",
       "      <th>9</th>\n",
       "      <td>CLE</td>\n",
       "      <td>1376</td>\n",
       "      <td>1810</td>\n",
       "      <td>0.76</td>\n",
       "    </tr>\n",
       "    <tr>\n",
       "      <th>10</th>\n",
       "      <td>UTA</td>\n",
       "      <td>1470</td>\n",
       "      <td>1916</td>\n",
       "      <td>0.77</td>\n",
       "    </tr>\n",
       "    <tr>\n",
       "      <th>11</th>\n",
       "      <td>IND</td>\n",
       "      <td>1347</td>\n",
       "      <td>1754</td>\n",
       "      <td>0.77</td>\n",
       "    </tr>\n",
       "    <tr>\n",
       "      <th>12</th>\n",
       "      <td>SAC</td>\n",
       "      <td>1466</td>\n",
       "      <td>1908</td>\n",
       "      <td>0.77</td>\n",
       "    </tr>\n",
       "    <tr>\n",
       "      <th>13</th>\n",
       "      <td>GSW</td>\n",
       "      <td>1280</td>\n",
       "      <td>1665</td>\n",
       "      <td>0.77</td>\n",
       "    </tr>\n",
       "    <tr>\n",
       "      <th>14</th>\n",
       "      <td>DAL</td>\n",
       "      <td>1341</td>\n",
       "      <td>1739</td>\n",
       "      <td>0.77</td>\n",
       "    </tr>\n",
       "    <tr>\n",
       "      <th>15</th>\n",
       "      <td>MIL</td>\n",
       "      <td>1459</td>\n",
       "      <td>1881</td>\n",
       "      <td>0.78</td>\n",
       "    </tr>\n",
       "    <tr>\n",
       "      <th>16</th>\n",
       "      <td>MIN</td>\n",
       "      <td>1474</td>\n",
       "      <td>1894</td>\n",
       "      <td>0.78</td>\n",
       "    </tr>\n",
       "    <tr>\n",
       "      <th>17</th>\n",
       "      <td>DET</td>\n",
       "      <td>1413</td>\n",
       "      <td>1806</td>\n",
       "      <td>0.78</td>\n",
       "    </tr>\n",
       "    <tr>\n",
       "      <th>18</th>\n",
       "      <td>WAS</td>\n",
       "      <td>1393</td>\n",
       "      <td>1778</td>\n",
       "      <td>0.78</td>\n",
       "    </tr>\n",
       "    <tr>\n",
       "      <th>19</th>\n",
       "      <td>ORL</td>\n",
       "      <td>1270</td>\n",
       "      <td>1614</td>\n",
       "      <td>0.79</td>\n",
       "    </tr>\n",
       "    <tr>\n",
       "      <th>20</th>\n",
       "      <td>NOP</td>\n",
       "      <td>1501</td>\n",
       "      <td>1903</td>\n",
       "      <td>0.79</td>\n",
       "    </tr>\n",
       "    <tr>\n",
       "      <th>21</th>\n",
       "      <td>LAC</td>\n",
       "      <td>1273</td>\n",
       "      <td>1606</td>\n",
       "      <td>0.79</td>\n",
       "    </tr>\n",
       "    <tr>\n",
       "      <th>22</th>\n",
       "      <td>DEN</td>\n",
       "      <td>1372</td>\n",
       "      <td>1725</td>\n",
       "      <td>0.80</td>\n",
       "    </tr>\n",
       "    <tr>\n",
       "      <th>23</th>\n",
       "      <td>PHO</td>\n",
       "      <td>1303</td>\n",
       "      <td>1635</td>\n",
       "      <td>0.80</td>\n",
       "    </tr>\n",
       "    <tr>\n",
       "      <th>24</th>\n",
       "      <td>BRK</td>\n",
       "      <td>1434</td>\n",
       "      <td>1781</td>\n",
       "      <td>0.81</td>\n",
       "    </tr>\n",
       "    <tr>\n",
       "      <th>25</th>\n",
       "      <td>MIA</td>\n",
       "      <td>1416</td>\n",
       "      <td>1753</td>\n",
       "      <td>0.81</td>\n",
       "    </tr>\n",
       "    <tr>\n",
       "      <th>26</th>\n",
       "      <td>ATL</td>\n",
       "      <td>1485</td>\n",
       "      <td>1829</td>\n",
       "      <td>0.81</td>\n",
       "    </tr>\n",
       "    <tr>\n",
       "      <th>27</th>\n",
       "      <td>CHI</td>\n",
       "      <td>1436</td>\n",
       "      <td>1766</td>\n",
       "      <td>0.81</td>\n",
       "    </tr>\n",
       "    <tr>\n",
       "      <th>28</th>\n",
       "      <td>BOS</td>\n",
       "      <td>1397</td>\n",
       "      <td>1713</td>\n",
       "      <td>0.82</td>\n",
       "    </tr>\n",
       "    <tr>\n",
       "      <th>29</th>\n",
       "      <td>PHI</td>\n",
       "      <td>1605</td>\n",
       "      <td>1955</td>\n",
       "      <td>0.82</td>\n",
       "    </tr>\n",
       "  </tbody>\n",
       "</table>\n",
       "</div>"
      ],
      "text/plain": [
       "     Tm    FT   FTA  FT%\n",
       "0   HOU  1434  2010 0.71\n",
       "1   LAL  1380  1884 0.73\n",
       "2   MEM  1393  1898 0.73\n",
       "3   CHO  1298  1753 0.74\n",
       "4   NYK  1473  1980 0.74\n",
       "5   SAS  1262  1673 0.75\n",
       "6   OKC  1233  1632 0.76\n",
       "7   TOR  1327  1749 0.76\n",
       "8   POR  1346  1771 0.76\n",
       "9   CLE  1376  1810 0.76\n",
       "10  UTA  1470  1916 0.77\n",
       "11  IND  1347  1754 0.77\n",
       "12  SAC  1466  1908 0.77\n",
       "13  GSW  1280  1665 0.77\n",
       "14  DAL  1341  1739 0.77\n",
       "15  MIL  1459  1881 0.78\n",
       "16  MIN  1474  1894 0.78\n",
       "17  DET  1413  1806 0.78\n",
       "18  WAS  1393  1778 0.78\n",
       "19  ORL  1270  1614 0.79\n",
       "20  NOP  1501  1903 0.79\n",
       "21  LAC  1273  1606 0.79\n",
       "22  DEN  1372  1725 0.80\n",
       "23  PHO  1303  1635 0.80\n",
       "24  BRK  1434  1781 0.81\n",
       "25  MIA  1416  1753 0.81\n",
       "26  ATL  1485  1829 0.81\n",
       "27  CHI  1436  1766 0.81\n",
       "28  BOS  1397  1713 0.82\n",
       "29  PHI  1605  1955 0.82"
      ]
     },
     "execution_count": 33,
     "metadata": {},
     "output_type": "execute_result"
    }
   ],
   "source": [
    "df_teams[['Tm', 'FT', 'FTA', 'FT%']].sort_values('FT%').reset_index(drop=True)"
   ]
  },
  {
   "cell_type": "code",
   "execution_count": null,
   "metadata": {},
   "outputs": [],
   "source": []
  }
 ],
 "metadata": {
  "kernelspec": {
   "display_name": "Python 3.10.4 ('minimal_ds')",
   "language": "python",
   "name": "python3"
  },
  "language_info": {
   "codemirror_mode": {
    "name": "ipython",
    "version": 3
   },
   "file_extension": ".py",
   "mimetype": "text/x-python",
   "name": "python",
   "nbconvert_exporter": "python",
   "pygments_lexer": "ipython3",
   "version": "3.10.4"
  },
  "orig_nbformat": 4,
  "vscode": {
   "interpreter": {
    "hash": "cb2f0d32d69fd4a2cbe27b229f04dea94fe379dc09b7e1a3f566995977dd2fda"
   }
  }
 },
 "nbformat": 4,
 "nbformat_minor": 2
}
